{
 "cells": [
  {
   "cell_type": "markdown",
   "id": "c85c7322-93c3-43d0-8d64-07734e6fd4c9",
   "metadata": {},
   "source": [
    "<span style=\"color:#87CEEB; font-size:30px; font-weight:bold;\">Desafío - Conociendo Python (Parte II)</span><br>\n",
    "<span style=\"font-size:15px;\">Marcela Alejandra Barrera Puentes</span>"
   ]
  },
  {
   "cell_type": "markdown",
   "id": "50e29c49-bfcb-4c7f-b181-b19b3cafe18e",
   "metadata": {},
   "source": [
    "<span style=\"color:#87CEEB; font-size:20px; font-weight:bold;\">Ejercicio 1: Suma de números pares</span><br>\n",
    "<span style=\"font-size:15px;\">Escribe un programa que pida al usuario dos números enteros y calcule la suma de todos los números pares entre ellos. El programa deberá imprimir el resultado. (hint: utilice la función range() para generar la secuencia de números enteros)</span>"
   ]
  },
  {
   "cell_type": "code",
   "execution_count": 12,
   "id": "690e5357-df65-43ac-9c60-2c2569c51002",
   "metadata": {},
   "outputs": [
    {
     "name": "stdin",
     "output_type": "stream",
     "text": [
      "Escribe a continuación el primer número entero:  10\n",
      "Escribe a continuación el segundo número entero:  -60\n"
     ]
    },
    {
     "name": "stdout",
     "output_type": "stream",
     "text": [
      "La suma de los número pares entre -60 y 10 es: -900\n"
     ]
    }
   ],
   "source": [
    "\"\"\"\n",
    "Estas líneas de código solicitan al usuario 2 números enteros a digitar y los almacena respectivamente en primer_entero y segundo_entero.\n",
    "Además valida y que el número ingresado sea un entero. Cuando no lo es genera un mensaje indicando que lo ingresado no es un número entero\n",
    "y debe ingresarlo nuevamente\n",
    "En simultáneo, a través del comando int traduce el texto a número entero\n",
    "\"\"\"\n",
    "while True:\n",
    "    try:\n",
    "        primer_entero = int(input(\"Escribe a continuación el primer número entero: \"))\n",
    "        break\n",
    "    except ValueError:\n",
    "        print(\"El número que ingreses debe ser entero. Inténtalo nuevamente\")\n",
    "while True:\n",
    "    try:\n",
    "        segundo_entero  =  int(input(\"Escribe a continuación el segundo número entero: \"))\n",
    "        break\n",
    "    except ValueError:\n",
    "        print(\"El l número que ingreses debe ser entero. Inténtalo nuevamente\")\n",
    "\"\"\"\n",
    "Ejecuta la suma de número pares entre el entero menor y el entero mayor\n",
    "Identifica cuál es el númeromenor y cuál el mayor de los enteros ingresados para ejecutar range\n",
    "\"\"\"\n",
    "entero_menor = min(primer_entero, segundo_entero)       # Entero menor\n",
    "entero_mayor = max(primer_entero, segundo_entero)       # Entero mayor\n",
    "suma_pares = sum(\n",
    "    i for i in range(entero_menor, entero_mayor + 1)    # Rango de números\n",
    "    if i%2==0                                           # Filtra números pares\n",
    ")\n",
    "print(f\"La suma de los número pares entre {entero_menor} y {entero_mayor} es: {suma_pares}\")"
   ]
  },
  {
   "cell_type": "markdown",
   "id": "de9551d2-1ec7-416e-bbe1-d4e990f41444",
   "metadata": {},
   "source": [
    "<span style=\"color:#87CEEB; font-size:20px; font-weight:bold;\">Ejercicio 2: Calculadora de áreas</span><br>\n",
    "<span style=\"font-size:15px;\">Escribe un programa que pida al usuario el tipo de figura geométrica de la que quiere calcular el área (cuadrado, triángulo o círculo) y las medidas correspondientes. El programa deberá calcular y mostrar el área de la figura seleccionada. (hint: para obtener el número pi puedes utilizar la librería math) </span>\n"
   ]
  },
  {
   "cell_type": "markdown",
   "id": "f4c6f3fd-9ebe-4ec4-92d1-22cc99930c9d",
   "metadata": {},
   "source": [
    "<img src=\"https://previews.123rf.com/images/izakowski/izakowski1409/izakowski140900131/32013881-ejemplo-de-la-historieta-de-funny-triángulo-círculo-y-cuadrado-básico-formas-geométricas-hablar.jpg\" alt=\"Ejemplo de formas geométricas\" style=\"width: 30%;\">\n"
   ]
  },
  {
   "cell_type": "code",
   "execution_count": null,
   "id": "4667cead-7164-43d0-b37a-814a15d79c5e",
   "metadata": {},
   "outputs": [],
   "source": [
    "# Se importa la librería math\n",
    "import math\n",
    "# Se muestra el menú de figuras geométricas\n",
    "while True:\n",
    "    print(\"Selecciona la figura geométrica para calcular el área:\")\n",
    "    print(\"1. Cuadrado\")\n",
    "    print(\"2. Triángulo\")\n",
    "    print(\"3. Círculo\")\n",
    "# Se explica cómo seleccionar la figura geométrica\n",
    "    figura_geometrica = input(\"Escribe el número de la figura a la que calcularemos el área (1, 2 ó 3): \")\n",
    "    if figura_geometrica not in [\"1\",\"2\",\"3\"]:\n",
    "        print(\"Opción de figura geométrica digitada no reconocida. Por favor, elige exclusivamente 1, 2, ó 3\")\n",
    "        continue\n",
    "    \n",
    "# Calcula el área de la figura geométrica seleccionada y entrega el resultado al usuario\n",
    "    if figura_geometrica == \"1\":\n",
    "        while True:\n",
    "            try:\n",
    "                lado = float(input(\"Digita la longitud del lado del cuadrado: \"))\n",
    "                break\n",
    "            except ValueError:\n",
    "                print(\"Por favor, ingresa un número válido\")\n",
    "        area = lado **2\n",
    "        print(\"El área del cuadrado es: \",area)\n",
    "        break\n",
    "\n",
    "    elif figura_geometrica == \"2\":\n",
    "        while True:\n",
    "            try:\n",
    "                base = float(input(\"Digita la longitud de la base del triángulo: \"))\n",
    "                break\n",
    "            except ValueError:\n",
    "                print(\"Por favor, ingresa un número válido\")\n",
    "        while True:\n",
    "            try:\n",
    "                altura = float(input(\"Digita la longitud de la altura del triángulo: \"))\n",
    "                break\n",
    "            except ValueError:\n",
    "                print(\"Por favor, ingresa un número válido\")\n",
    "        area = (base * altura / 2)\n",
    "        print(\"El área del triángulo es: \", area)\n",
    "        break\n",
    "\n",
    "    elif figura_geometrica == \"3\":\n",
    "        while True:\n",
    "            try:\n",
    "                radio = float(input(\"Digita la longitud del radio del círculo: \"))\n",
    "                break\n",
    "            except ValueError:\n",
    "                print(\"Por favor, ingresa un número válido\")\n",
    "        area = math.pi * (radio **2)\n",
    "        print(\"El área del círrculo es: \",area)\n",
    "        break\n",
    "\n",
    "    else:\n",
    "        print(\"Opción de figura geométrica digitada no reconocida. Por favor, elige exclusivamente 1, 2, ó 3\")\n"
   ]
  },
  {
   "cell_type": "markdown",
   "id": "323380c3-dcc6-435c-b05e-a726ca7216d1",
   "metadata": {},
   "source": [
    "<span style=\"color:#87CEEB; font-size:20px; font-weight:bold;\">Ejercicio 3: Adivina el número</span><br>\n",
    "<span style=\"font-size:15px;\">Escribe un programa que genere un número aleatorio entre 1 y 100 y pida al usuario que adivine cuál es. El programa deberá dar pistas al usuario diciendo si el número que ha introducido es mayor o menor que el número aleatorio. El programa deberá continuar pidiendo números hasta que el usuario adivine el número correcto. (hint: utiliza un ciclo while para mantener al programa pidiendo números) </span>"
   ]
  },
  {
   "cell_type": "code",
   "execution_count": null,
   "id": "d245d065-0308-4968-9010-41f94104ca93",
   "metadata": {},
   "outputs": [
    {
     "name": "stdout",
     "output_type": "stream",
     "text": [
      "Juguemos a: Adivina el Número!\n",
      "Debes adivinar un número entre 1 y 100 ... comencemos!\n"
     ]
    }
   ],
   "source": [
    "# Se importa librería random\n",
    "import random\n",
    "# El programa genera un número aleatorio entre 1 y 100\n",
    "numero_que_se_debe_adivinar = random.randint(1,100)\n",
    "# Se da instrucciones al usuario\n",
    "print(\"Juguemos a: Adivina el Número!\")\n",
    "print(\"Debes adivinar un número entre 1 y 100 ... comencemos!\")\n",
    "# Se cuenta la cantidad de intento\n",
    "veces = 0\n",
    "# Se pide al usuario que ingrese un número\n",
    "while True:\n",
    "    try:\n",
    "        usuario_adivina = int(input(\"Ingresa el número que crees que elegí (entre 1 y 100):\"))\n",
    "        veces += 1 # Cuenta intentos del usuario\n",
    "# Compara si el número adivinado es mayor, menor o igual al número que el programa generó aleatoriamente\n",
    "        if usuario_adivina < 1  or usuario_adivina > 100:\n",
    "            print(\"Recuerda ingresar un número entre 1 y 100\")\n",
    "        elif usuario_adivina < numero_que_se_debe_adivinar:\n",
    "            print(\"Pista: el número es mayor, intenta nuevamente\")\n",
    "        elif usuario_adivina > numero_que_se_debe_adivinar:\n",
    "            print(\"Pista: el número es menor, intenta nuevamente\")\n",
    "        else:\n",
    "            print(f\"Bien! Lograste adivinar en {veces} intentos, que {numero_que_se_debe_adivinar} es el número que yo había escogido\")\n",
    "            break\n",
    "    except ValueError:\n",
    "        pirnt(\"Por favor, ingresa un número válido entrerr 1 y 100\")"
   ]
  },
  {
   "cell_type": "markdown",
   "id": "d2bbd162-c711-4fd1-8b56-da1b5a52b631",
   "metadata": {},
   "source": [
    "<span style=\"color:#87CEEB; font-size:20px; font-weight:bold;\">Ejercicio 4: Carrera de pollos</span><br>\n",
    "<span style=\"font-size:15px;\">Crea un programa que simule segundo a segundo la acción de un pollo que recorre una distancia de 100 metros. Pide al usuario que ingrese la velocidad a la que puede correr el pollo, y usando un ciclo while muestra un emoji de pollo que se vaya moviendo hacia la 🐥\n",
    "derecha en cada impresión, como se muestra en los ejemplos</span>"
   ]
  },
  {
   "cell_type": "code",
   "execution_count": 10,
   "id": "0e42b5f4-1afd-4e0c-a24c-9eb7817d000c",
   "metadata": {},
   "outputs": [
    {
     "name": "stdin",
     "output_type": "stream",
     "text": [
      "Ingresa la velocidad del pollo en metros por segundo:  10\n"
     ]
    },
    {
     "name": "stdout",
     "output_type": "stream",
     "text": [
      "El pollo ha comenzado a correr! 🐥\n",
      "__________🐥\n",
      "____________________🐥\n",
      "______________________________🐥\n",
      "________________________________________🐥\n",
      "__________________________________________________🐥\n",
      "____________________________________________________________🐥\n",
      "______________________________________________________________________🐥\n",
      "________________________________________________________________________________🐥\n",
      "__________________________________________________________________________________________🐥\n",
      "____________________________________________________________________________________________________🐥\n",
      "¡El pollo ha recorrido 100 metros!\n"
     ]
    }
   ],
   "source": [
    "\"\"\"\n",
    "La librería time es útil en este ejercicio ya que permite utilizar funciones relacionadas con el tiempo, como por ejemplo, medir\n",
    "intervalos de tiempo, además de permitir pausas en la ejecución del programa. Un uso común, según pude estudiar, es en programas que \n",
    "requieren realizar acciones basadas en el tiempo como animaciones, temporizador y simulaciones\n",
    "La función time.sleep detiene la ejecución del programa durante el número de segundos especificados, en este caso el pollo se moverá a\n",
    "la velocidad que el usuario haya ingresado, mostrando un movimiento más realista y dinámico\n",
    "\"\"\"\n",
    "import time\n",
    "# Se solicita al usuario que ingrese la velocidad a la que puede correr el pollo\n",
    "velocidad = float(input(\"Ingresa la velocidad del pollo en metros por segundo: \"))\n",
    "# Se define la distancia total que debe recorrer el pollo, en este caso 100 metros\n",
    "cien_metros = 100\n",
    "# Calcula cuántos metros avanza el pollo\n",
    "avance = 0\n",
    "\"\"\"\n",
    "El programa simula la acción del pollo de manera gráfica en movimientos hacia la derecha de acuerdo a los metros por segundo que\n",
    "ingresó el usuario\n",
    "\"\"\"\n",
    "print(\"El pollo ha comenzado a correr! 🐥\")\n",
    "while avance < cien_metros:\n",
    "    # Avanza la distancia en función de la velocidad ingresada por el usuario\n",
    "    avance += velocidad\n",
    "    # Se muestra el emoji del pollo avanzando\n",
    "    estado = \"_\" * int(avance) + \"🐥\"\n",
    "    print(estado)\n",
    "    # Se espera 1 segundo antes de la siguiente impresión\n",
    "    time.sleep(1)\n",
    "# Se informa al usuario que el pollo ha recorrido los 100 metros\n",
    "print(\"¡El pollo ha recorrido 100 metros!\")"
   ]
  },
  {
   "cell_type": "code",
   "execution_count": null,
   "id": "f147c256-6a7c-4a39-a3b9-60610e657653",
   "metadata": {},
   "outputs": [],
   "source": []
  },
  {
   "cell_type": "code",
   "execution_count": null,
   "id": "6eab89d6-ec81-4883-9993-3d9c396f5321",
   "metadata": {},
   "outputs": [],
   "source": []
  }
 ],
 "metadata": {
  "kernelspec": {
   "display_name": "Python 3 (ipykernel)",
   "language": "python",
   "name": "python3"
  },
  "language_info": {
   "codemirror_mode": {
    "name": "ipython",
    "version": 3
   },
   "file_extension": ".py",
   "mimetype": "text/x-python",
   "name": "python",
   "nbconvert_exporter": "python",
   "pygments_lexer": "ipython3",
   "version": "3.12.4"
  }
 },
 "nbformat": 4,
 "nbformat_minor": 5
}
