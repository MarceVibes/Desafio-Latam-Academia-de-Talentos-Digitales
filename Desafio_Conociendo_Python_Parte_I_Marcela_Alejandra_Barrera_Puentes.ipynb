{
 "cells": [
  {
   "cell_type": "markdown",
   "id": "7e5e319f-2148-43ea-af3a-f72607ac1791",
   "metadata": {},
   "source": [
    "<span style=\"color:#87CEEB; font-size:30px; font-weight:bold;\">Desafío - Conociendo Python (Parte I)</span><br>\n",
    "<span style=\"font-size:15px;\">Marcela Alejandra Barrera Puentes</span>"
   ]
  },
  {
   "cell_type": "markdown",
   "id": "8aeef7ca-52cb-4fc3-b13a-b4db5f0201be",
   "metadata": {},
   "source": [
    "<span style=\"color:#87CEEB; font-size:20px; font-weight:bold;\">1. Calculando el salario semanal</span><br>\n",
    "<span style=\"font-size:15px;\">Un vendedor gana un salario base de $500 más una comisión del 10% sobre sus ventas totales. Escribe un programa donde se pueda ingresar el monto de las ventas totales del vendedor y calcule su salario total.</span>"
   ]
  },
  {
   "cell_type": "code",
   "execution_count": 18,
   "id": "00c06ba2-2877-4ef2-938f-08886b5af7fa",
   "metadata": {},
   "outputs": [
    {
     "name": "stdin",
     "output_type": "stream",
     "text": [
      "Hola! por favor ingresa el monto de tus ventas totales:  6700\n"
     ]
    },
    {
     "name": "stdout",
     "output_type": "stream",
     "text": [
      "Tu salario total es: $1170.00\n"
     ]
    }
   ],
   "source": [
    "# Definición salario base\n",
    "salario_base = 500\n",
    "# Se ingresan las ventas totales\n",
    "ventas_totales = float(input(\"Hola! por favor ingresa el monto de tus ventas totales: \"))\n",
    "# Calcula la comisión\n",
    "comision = 0.10 * ventas_totales\n",
    "# Calcula el salario total\n",
    "salario_total = salario_base + comision\n",
    "# Muestra el salario total\n",
    "print(f\"Tu salario total es: ${salario_total:.2f}\")"
   ]
  },
  {
   "cell_type": "markdown",
   "id": "b9161548-8746-491e-bf7c-66407a619d41",
   "metadata": {},
   "source": [
    "<span style=\"color:#87CEEB; font-size:20px; font-weight:bold;\">2. Bienvenido a la frutería virtual</span><br>\n",
    "<span style=\"font-size:15px;\">En este ejercicio, vamos a crear un diccionario vacío llamado catalogo_frutas {'fruta': precio} y agregar algunas frutas con sus precios. Luego, le pediremos al usuario que ingrese el nombre de una fruta y verificaremos si esa fruta está en el diccionario. Si la fruta está en el diccionario, mostraremos el precio al usuario. Si la fruta no está en el diccionario, le diremos al usuario que no se encuentra esa fruta en nuestra tienda.</span>"
   ]
  },
  {
   "cell_type": "code",
   "execution_count": 19,
   "id": "5e2fbdc8-b6ba-44a9-81b8-5073964943d6",
   "metadata": {},
   "outputs": [
    {
     "name": "stdin",
     "output_type": "stream",
     "text": [
      "Hola! ingresa el nombre de la fruta que buscas:  mango\n"
     ]
    },
    {
     "name": "stdout",
     "output_type": "stream",
     "text": [
      "El pecio de la mango es: $1000.00\n"
     ]
    }
   ],
   "source": [
    "# Crea el diccionario vacío\n",
    "catalogo_frutas={}\n",
    "# Agrega frutas y precios al diccionario\n",
    "catalogo_frutas['mango']=1000\n",
    "catalogo_frutas['piña']=5000\n",
    "catalogo_frutas['manzana']=200\n",
    "catalogo_frutas['pera']=500\n",
    "catalogo_frutas['chirimoya']=2000\n",
    "# Solicita ingresar la fruta buscada\n",
    "ingresa_fruta=input(\"Hola! ingresa el nombre de la fruta que buscas: \").lower()\n",
    "# Valida si la fruta está en la frutería virtual y despliega el resultado\n",
    "if ingresa_fruta in catalogo_frutas:\n",
    "    precio = catalogo_frutas[ingresa_fruta]\n",
    "    print(f\"El pecio de la {ingresa_fruta} es: ${precio:.2f}\")\n",
    "else:\n",
    "    print(f\"Lo siento, la fruta: {ingresa_fruta} no la tenemos en stock en la frutería virtual.\")\n",
    "\n",
    "\n"
   ]
  },
  {
   "cell_type": "markdown",
   "id": "a166769c-580f-4b1e-a2cf-68d86c771756",
   "metadata": {},
   "source": [
    "<span style=\"color:#87CEEB; font-size:20px; font-weight:bold;\">3. Bienvenido al casino</span><br>\n",
    "<span style=\"font-size:15px;\">En este juego, tienes que lanzar dos dados y el programa mostrará los valores obtenidos en cada dado y la suma de ambos valores. Debes generar dos números aleatorios entre 1 y 6 que representan los valores obtenidos en cada dado usando la librería random. Luego, el programa debe mostrar los valores obtenidos en cada dado y la suma de ambos valores en la pantalla.</span>"
   ]
  },
  {
   "cell_type": "code",
   "execution_count": 20,
   "id": "8d4636f8-f1a1-4d61-8de7-2f50d40581e0",
   "metadata": {},
   "outputs": [
    {
     "name": "stdout",
     "output_type": "stream",
     "text": [
      "Valor del primer dado lanzado: 3\n",
      "Valor del segundo dado lanzado: 2\n",
      "La suma de los valores obtenidos en ambos dados: 5\n"
     ]
    }
   ],
   "source": [
    "# Se importa librería random\n",
    "import random\n",
    "# Lanzamiento de dos dados\n",
    "dado_1 = random.randint(1,6)\n",
    "dado_2 = random.randint(1,6)\n",
    "# Calcula la suma de ambos dados\n",
    "sumatoria_lanzamientos = dado_1 + dado_2\n",
    "# Muestra resultados\n",
    "print(f\"Valor del primer dado lanzado: {dado_1}\")\n",
    "print(f\"Valor del segundo dado lanzado: {dado_2}\")\n",
    "print(f\"La suma de los valores obtenidos en ambos dados: {sumatoria_lanzamientos}\")"
   ]
  },
  {
   "cell_type": "markdown",
   "id": "0219694d-d5d1-4bdc-9612-5a17a986fcb5",
   "metadata": {},
   "source": [
    "<span style=\"color:#87CEEB; font-size:20px; font-weight:bold;\">4. Calculadora de chocolate</span><br>\n",
    "<span style=\"font-size:15px;\">Crea un programa que calcule la cantidad de chocolate que puedes comer sin pasarte de tu límite diario de calorías. El programa debe preguntar al usuario su límite diario de calorías y la cantidad de calorías que tiene una porción de chocolate. Luego, debe calcular la cantidad máxima de chocolate que se puede comer sin exceder el límite diario de calorías y mostrarla en pantalla.</span>"
   ]
  },
  {
   "cell_type": "markdown",
   "id": "1c8bc427-4d79-4dbb-b77b-cffec021ec2d",
   "metadata": {},
   "source": [
    "<span style=\"color:darkgray; font-size:15px; font-weight:bold;\">Referencia de calorías necesarias por rango de edad y sexo</span><br>\n",
    "<div style=\"color: gray;\">\n",
    "- **Niños (2-8 años)**:<br>\n",
    "  - Niñas: 1,000 - 1,400 calorías<br>\n",
    "  - Niños: 1,000 - 2,000 calorías<br>\n",
    "- **Adolescentes (9-18 años)**:<br>\n",
    "  - Niñas: 1,600 - 2,400 calorías<br>\n",
    "  - Niños: 1,800 - 3,200 calorías<br>\n",
    "- **Adultos (19-50 años)**:<br>\n",
    "  - Mujeres: 1,800 - 2,400 calorías<br>\n",
    "  - Hombres: 2,200 - 3,000 calorías<br>\n",
    "- **Adultos mayores (51+ años)**:<br>\n",
    "  - Mujeres: 1,600 - 2,200 calorías<br>\n",
    "  - Hombres: 2,000 - 2,800 calorías\n",
    "</div>"
   ]
  },
  {
   "cell_type": "code",
   "execution_count": 21,
   "id": "fe117a5a-829e-4f83-a8b6-3e34f3dd22c7",
   "metadata": {},
   "outputs": [
    {
     "name": "stdin",
     "output_type": "stream",
     "text": [
      "Hola! Ingresa tu límite diario de calorías, si no lo sabes utiliza la referencia de más arriba:  6000\n",
      "Ahora ingresa las calorías de una porción de chocolate (puedes leerlo en la etiqueta del chocolate que has seleccionado):  45\n"
     ]
    },
    {
     "name": "stdout",
     "output_type": "stream",
     "text": [
      "Si comes un máximo de 133 porciones de chocolate no excederás tu límite diario de calorías.\n"
     ]
    }
   ],
   "source": [
    "# Pregunta al usuario su límite diario de calorías\n",
    "limite_diario_calorias = float(input(\"Hola! Ingresa tu límite diario de calorías, si no lo sabes utiliza la referencia de más arriba: \"))\n",
    "\n",
    "# Pregunta la cantidad de calorías por porción de chocolate\n",
    "calorias_por_porcion_chocolate = float(input(\"Ahora ingresa las calorías de una porción de chocolate (puedes leerlo en la etiqueta del chocolate que has seleccionado): \"))\n",
    "\n",
    "# Calcula la cantidad máxima de chocolate que se puede comer\n",
    "porciones_maximas = limite_diario_calorias // calorias_por_porcion_chocolate\n",
    "\n",
    "# Resultado\n",
    "print(f\"Si comes un máximo de {int(porciones_maximas)} porciones de chocolate no excederás tu límite diario de calorías.\")"
   ]
  },
  {
   "cell_type": "code",
   "execution_count": null,
   "id": "eefb14eb-70d6-4846-a8f8-8abab368eab1",
   "metadata": {},
   "outputs": [],
   "source": []
  }
 ],
 "metadata": {
  "kernelspec": {
   "display_name": "Python 3 (ipykernel)",
   "language": "python",
   "name": "python3"
  },
  "language_info": {
   "codemirror_mode": {
    "name": "ipython",
    "version": 3
   },
   "file_extension": ".py",
   "mimetype": "text/x-python",
   "name": "python",
   "nbconvert_exporter": "python",
   "pygments_lexer": "ipython3",
   "version": "3.12.4"
  }
 },
 "nbformat": 4,
 "nbformat_minor": 5
}
