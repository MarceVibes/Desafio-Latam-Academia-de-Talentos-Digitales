{
 "cells": [
  {
   "cell_type": "markdown",
   "id": "1c77e952-48e5-4662-90d8-fa8739fce7e0",
   "metadata": {},
   "source": [
    "<span style=\"color:#87CEEB; font-size:30px; font-weight:bold;\">Desafío - Estadística Descriptiva y Probabilidades (Parte II)\n",
    "</span><br>\n",
    "<span style=\"font-size:15px;\">Marcela Alejandra Barrera Puentes</span>"
   ]
  },
  {
   "cell_type": "markdown",
   "id": "c8f878c8-e209-4394-8fcf-cc14cfa6fef2",
   "metadata": {},
   "source": [
    "<span style=\"font-size:15px;\">En este desafío validaremos nuestros conocimientos relacionados con probabilidades. Para lograrlo, necesitarás aplicar lo que has aprendido durante esa sesión.\n",
    "Lee todo el documento antes de comenzar el desarrollo individual, para asegurarte de tener el máximo de puntaje y enfocar bien los esfuerzos.</span>"
   ]
  },
  {
   "cell_type": "markdown",
   "id": "edd42517-702d-44ab-b153-908ba3b9c4f3",
   "metadata": {},
   "source": [
    "<span style=\"color:#87CEEB; font-size:20px; font-weight:bold;\">Descripción</span><br>"
   ]
  },
  {
   "cell_type": "markdown",
   "id": "d5f96496-c634-4c5f-b7f1-c664cccf6eb0",
   "metadata": {},
   "source": [
    "Una casa de apuestas quiere perfeccionar sus modelos de estimaciones de factores de apuestas, por lo que quiere hacer una revisión sobre los resultados del Mundial 2014.\n",
    "Para resolver este desafío deberás cargar datos desde el dataset worldcup2014.csv, y realizar las operaciones necesarias para determinar lo pedido.</span>"
   ]
  },
  {
   "cell_type": "code",
   "execution_count": 505,
   "id": "26cb4bfe-a3b3-4082-a1de-98d935b4fe04",
   "metadata": {},
   "outputs": [
    {
     "name": "stdout",
     "output_type": "stream",
     "text": [
      "Requirement already satisfied: pandas in /opt/anaconda3/lib/python3.12/site-packages (2.2.2)\n",
      "Requirement already satisfied: numpy>=1.26.0 in /opt/anaconda3/lib/python3.12/site-packages (from pandas) (1.26.4)\n",
      "Requirement already satisfied: python-dateutil>=2.8.2 in /opt/anaconda3/lib/python3.12/site-packages (from pandas) (2.9.0.post0)\n",
      "Requirement already satisfied: pytz>=2020.1 in /opt/anaconda3/lib/python3.12/site-packages (from pandas) (2024.1)\n",
      "Requirement already satisfied: tzdata>=2022.7 in /opt/anaconda3/lib/python3.12/site-packages (from pandas) (2023.3)\n",
      "Requirement already satisfied: six>=1.5 in /opt/anaconda3/lib/python3.12/site-packages (from python-dateutil>=2.8.2->pandas) (1.16.0)\n",
      "          team     continent group  group_pos  cantidad_juegos  \\\n",
      "0       Brazil  southamerica     A          1                3   \n",
      "1       Mexico  northamerica     A          2                3   \n",
      "2      Croatia        europe     A          3                3   \n",
      "3     Cameroon        africa     A          4                3   \n",
      "4  Netherlands        europe     B          1                3   \n",
      "\n",
      "   juegos_ganados  juegos_empatados  juegos_perdidos  goles_favor  \\\n",
      "0               2                 1                0            7   \n",
      "1               2                 1                0            4   \n",
      "2               1                 0                2            6   \n",
      "3               0                 0                3            1   \n",
      "4               3                 0                0           10   \n",
      "\n",
      "   goles_contra goles_diferencia  puntos  clasificado  \n",
      "0             2                5       7            1  \n",
      "1             1                3       7            1  \n",
      "2             6                0       3            0  \n",
      "3             9               −8       0            0  \n",
      "4             3                7       9            1  \n",
      "<class 'pandas.core.frame.DataFrame'>\n",
      "RangeIndex: 32 entries, 0 to 31\n",
      "Data columns (total 13 columns):\n",
      " #   Column            Non-Null Count  Dtype \n",
      "---  ------            --------------  ----- \n",
      " 0   team              32 non-null     object\n",
      " 1   continent         32 non-null     object\n",
      " 2   group             32 non-null     object\n",
      " 3   group_pos         32 non-null     int64 \n",
      " 4   cantidad_juegos   32 non-null     int64 \n",
      " 5   juegos_ganados    32 non-null     int64 \n",
      " 6   juegos_empatados  32 non-null     int64 \n",
      " 7   juegos_perdidos   32 non-null     int64 \n",
      " 8   goles_favor       32 non-null     int64 \n",
      " 9   goles_contra      32 non-null     int64 \n",
      " 10  goles_diferencia  32 non-null     object\n",
      " 11  puntos            32 non-null     int64 \n",
      " 12  clasificado       32 non-null     int64 \n",
      "dtypes: int64(9), object(4)\n",
      "memory usage: 3.4+ KB\n",
      "Número de países únicos participantes: 32\n",
      "Nombre de continentes participantes:\n",
      "['southamerica' 'northamerica' 'europe' 'africa' 'asia']\n"
     ]
    },
    {
     "data": {
      "text/html": [
       "<div>\n",
       "<style scoped>\n",
       "    .dataframe tbody tr th:only-of-type {\n",
       "        vertical-align: middle;\n",
       "    }\n",
       "\n",
       "    .dataframe tbody tr th {\n",
       "        vertical-align: top;\n",
       "    }\n",
       "\n",
       "    .dataframe thead th {\n",
       "        text-align: right;\n",
       "    }\n",
       "</style>\n",
       "<table border=\"1\" class=\"dataframe\">\n",
       "  <thead>\n",
       "    <tr style=\"text-align: right;\">\n",
       "      <th></th>\n",
       "      <th>team</th>\n",
       "      <th>continent</th>\n",
       "      <th>group</th>\n",
       "      <th>group_pos</th>\n",
       "      <th>cantidad_juegos</th>\n",
       "      <th>juegos_ganados</th>\n",
       "      <th>juegos_empatados</th>\n",
       "      <th>juegos_perdidos</th>\n",
       "      <th>goles_favor</th>\n",
       "      <th>goles_contra</th>\n",
       "      <th>goles_diferencia</th>\n",
       "      <th>puntos</th>\n",
       "      <th>clasificado</th>\n",
       "    </tr>\n",
       "  </thead>\n",
       "  <tbody>\n",
       "    <tr>\n",
       "      <th>0</th>\n",
       "      <td>Brazil</td>\n",
       "      <td>southamerica</td>\n",
       "      <td>A</td>\n",
       "      <td>1</td>\n",
       "      <td>3</td>\n",
       "      <td>2</td>\n",
       "      <td>1</td>\n",
       "      <td>0</td>\n",
       "      <td>7</td>\n",
       "      <td>2</td>\n",
       "      <td>5</td>\n",
       "      <td>7</td>\n",
       "      <td>1</td>\n",
       "    </tr>\n",
       "    <tr>\n",
       "      <th>1</th>\n",
       "      <td>Mexico</td>\n",
       "      <td>northamerica</td>\n",
       "      <td>A</td>\n",
       "      <td>2</td>\n",
       "      <td>3</td>\n",
       "      <td>2</td>\n",
       "      <td>1</td>\n",
       "      <td>0</td>\n",
       "      <td>4</td>\n",
       "      <td>1</td>\n",
       "      <td>3</td>\n",
       "      <td>7</td>\n",
       "      <td>1</td>\n",
       "    </tr>\n",
       "    <tr>\n",
       "      <th>2</th>\n",
       "      <td>Croatia</td>\n",
       "      <td>europe</td>\n",
       "      <td>A</td>\n",
       "      <td>3</td>\n",
       "      <td>3</td>\n",
       "      <td>1</td>\n",
       "      <td>0</td>\n",
       "      <td>2</td>\n",
       "      <td>6</td>\n",
       "      <td>6</td>\n",
       "      <td>0</td>\n",
       "      <td>3</td>\n",
       "      <td>0</td>\n",
       "    </tr>\n",
       "    <tr>\n",
       "      <th>3</th>\n",
       "      <td>Cameroon</td>\n",
       "      <td>africa</td>\n",
       "      <td>A</td>\n",
       "      <td>4</td>\n",
       "      <td>3</td>\n",
       "      <td>0</td>\n",
       "      <td>0</td>\n",
       "      <td>3</td>\n",
       "      <td>1</td>\n",
       "      <td>9</td>\n",
       "      <td>−8</td>\n",
       "      <td>0</td>\n",
       "      <td>0</td>\n",
       "    </tr>\n",
       "    <tr>\n",
       "      <th>4</th>\n",
       "      <td>Netherlands</td>\n",
       "      <td>europe</td>\n",
       "      <td>B</td>\n",
       "      <td>1</td>\n",
       "      <td>3</td>\n",
       "      <td>3</td>\n",
       "      <td>0</td>\n",
       "      <td>0</td>\n",
       "      <td>10</td>\n",
       "      <td>3</td>\n",
       "      <td>7</td>\n",
       "      <td>9</td>\n",
       "      <td>1</td>\n",
       "    </tr>\n",
       "    <tr>\n",
       "      <th>5</th>\n",
       "      <td>Chile</td>\n",
       "      <td>southamerica</td>\n",
       "      <td>B</td>\n",
       "      <td>2</td>\n",
       "      <td>3</td>\n",
       "      <td>2</td>\n",
       "      <td>0</td>\n",
       "      <td>1</td>\n",
       "      <td>5</td>\n",
       "      <td>3</td>\n",
       "      <td>2</td>\n",
       "      <td>6</td>\n",
       "      <td>1</td>\n",
       "    </tr>\n",
       "    <tr>\n",
       "      <th>6</th>\n",
       "      <td>Spain</td>\n",
       "      <td>europe</td>\n",
       "      <td>B</td>\n",
       "      <td>3</td>\n",
       "      <td>3</td>\n",
       "      <td>1</td>\n",
       "      <td>0</td>\n",
       "      <td>2</td>\n",
       "      <td>4</td>\n",
       "      <td>7</td>\n",
       "      <td>−3</td>\n",
       "      <td>3</td>\n",
       "      <td>0</td>\n",
       "    </tr>\n",
       "    <tr>\n",
       "      <th>7</th>\n",
       "      <td>Australia</td>\n",
       "      <td>asia</td>\n",
       "      <td>B</td>\n",
       "      <td>4</td>\n",
       "      <td>3</td>\n",
       "      <td>0</td>\n",
       "      <td>0</td>\n",
       "      <td>3</td>\n",
       "      <td>3</td>\n",
       "      <td>9</td>\n",
       "      <td>−6</td>\n",
       "      <td>0</td>\n",
       "      <td>0</td>\n",
       "    </tr>\n",
       "    <tr>\n",
       "      <th>8</th>\n",
       "      <td>Colombia</td>\n",
       "      <td>southamerica</td>\n",
       "      <td>C</td>\n",
       "      <td>1</td>\n",
       "      <td>3</td>\n",
       "      <td>3</td>\n",
       "      <td>0</td>\n",
       "      <td>0</td>\n",
       "      <td>9</td>\n",
       "      <td>2</td>\n",
       "      <td>7</td>\n",
       "      <td>9</td>\n",
       "      <td>1</td>\n",
       "    </tr>\n",
       "    <tr>\n",
       "      <th>9</th>\n",
       "      <td>Greece</td>\n",
       "      <td>europe</td>\n",
       "      <td>C</td>\n",
       "      <td>2</td>\n",
       "      <td>3</td>\n",
       "      <td>1</td>\n",
       "      <td>1</td>\n",
       "      <td>1</td>\n",
       "      <td>2</td>\n",
       "      <td>4</td>\n",
       "      <td>−2</td>\n",
       "      <td>4</td>\n",
       "      <td>1</td>\n",
       "    </tr>\n",
       "    <tr>\n",
       "      <th>10</th>\n",
       "      <td>Ivory Coast</td>\n",
       "      <td>africa</td>\n",
       "      <td>C</td>\n",
       "      <td>3</td>\n",
       "      <td>3</td>\n",
       "      <td>1</td>\n",
       "      <td>0</td>\n",
       "      <td>2</td>\n",
       "      <td>4</td>\n",
       "      <td>5</td>\n",
       "      <td>−1</td>\n",
       "      <td>3</td>\n",
       "      <td>0</td>\n",
       "    </tr>\n",
       "    <tr>\n",
       "      <th>11</th>\n",
       "      <td>Japan</td>\n",
       "      <td>asia</td>\n",
       "      <td>C</td>\n",
       "      <td>4</td>\n",
       "      <td>3</td>\n",
       "      <td>0</td>\n",
       "      <td>1</td>\n",
       "      <td>2</td>\n",
       "      <td>2</td>\n",
       "      <td>6</td>\n",
       "      <td>−4</td>\n",
       "      <td>1</td>\n",
       "      <td>0</td>\n",
       "    </tr>\n",
       "    <tr>\n",
       "      <th>12</th>\n",
       "      <td>Costa Rica</td>\n",
       "      <td>northamerica</td>\n",
       "      <td>D</td>\n",
       "      <td>1</td>\n",
       "      <td>3</td>\n",
       "      <td>2</td>\n",
       "      <td>1</td>\n",
       "      <td>0</td>\n",
       "      <td>4</td>\n",
       "      <td>1</td>\n",
       "      <td>3</td>\n",
       "      <td>7</td>\n",
       "      <td>1</td>\n",
       "    </tr>\n",
       "    <tr>\n",
       "      <th>13</th>\n",
       "      <td>Uruguay</td>\n",
       "      <td>southamerica</td>\n",
       "      <td>D</td>\n",
       "      <td>2</td>\n",
       "      <td>3</td>\n",
       "      <td>2</td>\n",
       "      <td>0</td>\n",
       "      <td>1</td>\n",
       "      <td>4</td>\n",
       "      <td>4</td>\n",
       "      <td>0</td>\n",
       "      <td>6</td>\n",
       "      <td>1</td>\n",
       "    </tr>\n",
       "    <tr>\n",
       "      <th>14</th>\n",
       "      <td>Italy</td>\n",
       "      <td>europe</td>\n",
       "      <td>D</td>\n",
       "      <td>3</td>\n",
       "      <td>3</td>\n",
       "      <td>1</td>\n",
       "      <td>0</td>\n",
       "      <td>2</td>\n",
       "      <td>2</td>\n",
       "      <td>3</td>\n",
       "      <td>−1</td>\n",
       "      <td>3</td>\n",
       "      <td>0</td>\n",
       "    </tr>\n",
       "    <tr>\n",
       "      <th>15</th>\n",
       "      <td>England</td>\n",
       "      <td>europe</td>\n",
       "      <td>D</td>\n",
       "      <td>4</td>\n",
       "      <td>3</td>\n",
       "      <td>0</td>\n",
       "      <td>1</td>\n",
       "      <td>2</td>\n",
       "      <td>2</td>\n",
       "      <td>4</td>\n",
       "      <td>−2</td>\n",
       "      <td>1</td>\n",
       "      <td>0</td>\n",
       "    </tr>\n",
       "    <tr>\n",
       "      <th>16</th>\n",
       "      <td>France</td>\n",
       "      <td>europe</td>\n",
       "      <td>E</td>\n",
       "      <td>1</td>\n",
       "      <td>3</td>\n",
       "      <td>2</td>\n",
       "      <td>1</td>\n",
       "      <td>0</td>\n",
       "      <td>8</td>\n",
       "      <td>2</td>\n",
       "      <td>6</td>\n",
       "      <td>7</td>\n",
       "      <td>1</td>\n",
       "    </tr>\n",
       "    <tr>\n",
       "      <th>17</th>\n",
       "      <td>Switzerland</td>\n",
       "      <td>europe</td>\n",
       "      <td>E</td>\n",
       "      <td>2</td>\n",
       "      <td>3</td>\n",
       "      <td>2</td>\n",
       "      <td>0</td>\n",
       "      <td>1</td>\n",
       "      <td>7</td>\n",
       "      <td>6</td>\n",
       "      <td>1</td>\n",
       "      <td>6</td>\n",
       "      <td>1</td>\n",
       "    </tr>\n",
       "    <tr>\n",
       "      <th>18</th>\n",
       "      <td>Ecuador</td>\n",
       "      <td>southamerica</td>\n",
       "      <td>E</td>\n",
       "      <td>3</td>\n",
       "      <td>3</td>\n",
       "      <td>1</td>\n",
       "      <td>1</td>\n",
       "      <td>1</td>\n",
       "      <td>3</td>\n",
       "      <td>3</td>\n",
       "      <td>0</td>\n",
       "      <td>4</td>\n",
       "      <td>0</td>\n",
       "    </tr>\n",
       "    <tr>\n",
       "      <th>19</th>\n",
       "      <td>Honduras</td>\n",
       "      <td>northamerica</td>\n",
       "      <td>E</td>\n",
       "      <td>4</td>\n",
       "      <td>3</td>\n",
       "      <td>0</td>\n",
       "      <td>0</td>\n",
       "      <td>3</td>\n",
       "      <td>1</td>\n",
       "      <td>8</td>\n",
       "      <td>−7</td>\n",
       "      <td>0</td>\n",
       "      <td>0</td>\n",
       "    </tr>\n",
       "    <tr>\n",
       "      <th>20</th>\n",
       "      <td>Argentina</td>\n",
       "      <td>southamerica</td>\n",
       "      <td>F</td>\n",
       "      <td>1</td>\n",
       "      <td>3</td>\n",
       "      <td>3</td>\n",
       "      <td>0</td>\n",
       "      <td>0</td>\n",
       "      <td>6</td>\n",
       "      <td>3</td>\n",
       "      <td>3</td>\n",
       "      <td>9</td>\n",
       "      <td>1</td>\n",
       "    </tr>\n",
       "    <tr>\n",
       "      <th>21</th>\n",
       "      <td>Nigeria</td>\n",
       "      <td>africa</td>\n",
       "      <td>F</td>\n",
       "      <td>2</td>\n",
       "      <td>3</td>\n",
       "      <td>1</td>\n",
       "      <td>1</td>\n",
       "      <td>1</td>\n",
       "      <td>3</td>\n",
       "      <td>3</td>\n",
       "      <td>0</td>\n",
       "      <td>4</td>\n",
       "      <td>1</td>\n",
       "    </tr>\n",
       "    <tr>\n",
       "      <th>22</th>\n",
       "      <td>Bosnia and Herzegovina</td>\n",
       "      <td>europe</td>\n",
       "      <td>F</td>\n",
       "      <td>3</td>\n",
       "      <td>3</td>\n",
       "      <td>1</td>\n",
       "      <td>0</td>\n",
       "      <td>2</td>\n",
       "      <td>4</td>\n",
       "      <td>4</td>\n",
       "      <td>0</td>\n",
       "      <td>3</td>\n",
       "      <td>0</td>\n",
       "    </tr>\n",
       "    <tr>\n",
       "      <th>23</th>\n",
       "      <td>Iran</td>\n",
       "      <td>asia</td>\n",
       "      <td>F</td>\n",
       "      <td>4</td>\n",
       "      <td>3</td>\n",
       "      <td>0</td>\n",
       "      <td>1</td>\n",
       "      <td>2</td>\n",
       "      <td>1</td>\n",
       "      <td>4</td>\n",
       "      <td>−3</td>\n",
       "      <td>1</td>\n",
       "      <td>0</td>\n",
       "    </tr>\n",
       "    <tr>\n",
       "      <th>24</th>\n",
       "      <td>Germany</td>\n",
       "      <td>europe</td>\n",
       "      <td>G</td>\n",
       "      <td>1</td>\n",
       "      <td>3</td>\n",
       "      <td>2</td>\n",
       "      <td>1</td>\n",
       "      <td>0</td>\n",
       "      <td>7</td>\n",
       "      <td>2</td>\n",
       "      <td>5</td>\n",
       "      <td>7</td>\n",
       "      <td>1</td>\n",
       "    </tr>\n",
       "    <tr>\n",
       "      <th>25</th>\n",
       "      <td>United States</td>\n",
       "      <td>northamerica</td>\n",
       "      <td>G</td>\n",
       "      <td>2</td>\n",
       "      <td>3</td>\n",
       "      <td>1</td>\n",
       "      <td>1</td>\n",
       "      <td>1</td>\n",
       "      <td>4</td>\n",
       "      <td>4</td>\n",
       "      <td>0</td>\n",
       "      <td>4</td>\n",
       "      <td>1</td>\n",
       "    </tr>\n",
       "    <tr>\n",
       "      <th>26</th>\n",
       "      <td>Portugal</td>\n",
       "      <td>europe</td>\n",
       "      <td>G</td>\n",
       "      <td>3</td>\n",
       "      <td>3</td>\n",
       "      <td>1</td>\n",
       "      <td>1</td>\n",
       "      <td>1</td>\n",
       "      <td>4</td>\n",
       "      <td>7</td>\n",
       "      <td>−3</td>\n",
       "      <td>4</td>\n",
       "      <td>0</td>\n",
       "    </tr>\n",
       "    <tr>\n",
       "      <th>27</th>\n",
       "      <td>Ghana</td>\n",
       "      <td>africa</td>\n",
       "      <td>G</td>\n",
       "      <td>4</td>\n",
       "      <td>3</td>\n",
       "      <td>0</td>\n",
       "      <td>1</td>\n",
       "      <td>2</td>\n",
       "      <td>4</td>\n",
       "      <td>6</td>\n",
       "      <td>−2</td>\n",
       "      <td>1</td>\n",
       "      <td>0</td>\n",
       "    </tr>\n",
       "    <tr>\n",
       "      <th>28</th>\n",
       "      <td>Belgium</td>\n",
       "      <td>europe</td>\n",
       "      <td>H</td>\n",
       "      <td>1</td>\n",
       "      <td>3</td>\n",
       "      <td>3</td>\n",
       "      <td>0</td>\n",
       "      <td>0</td>\n",
       "      <td>4</td>\n",
       "      <td>1</td>\n",
       "      <td>3</td>\n",
       "      <td>9</td>\n",
       "      <td>1</td>\n",
       "    </tr>\n",
       "    <tr>\n",
       "      <th>29</th>\n",
       "      <td>Algeria</td>\n",
       "      <td>africa</td>\n",
       "      <td>H</td>\n",
       "      <td>2</td>\n",
       "      <td>3</td>\n",
       "      <td>1</td>\n",
       "      <td>1</td>\n",
       "      <td>1</td>\n",
       "      <td>6</td>\n",
       "      <td>5</td>\n",
       "      <td>1</td>\n",
       "      <td>4</td>\n",
       "      <td>1</td>\n",
       "    </tr>\n",
       "    <tr>\n",
       "      <th>30</th>\n",
       "      <td>Russia</td>\n",
       "      <td>europe</td>\n",
       "      <td>H</td>\n",
       "      <td>3</td>\n",
       "      <td>3</td>\n",
       "      <td>0</td>\n",
       "      <td>2</td>\n",
       "      <td>1</td>\n",
       "      <td>2</td>\n",
       "      <td>3</td>\n",
       "      <td>−1</td>\n",
       "      <td>2</td>\n",
       "      <td>0</td>\n",
       "    </tr>\n",
       "    <tr>\n",
       "      <th>31</th>\n",
       "      <td>South Korea</td>\n",
       "      <td>asia</td>\n",
       "      <td>H</td>\n",
       "      <td>4</td>\n",
       "      <td>3</td>\n",
       "      <td>0</td>\n",
       "      <td>1</td>\n",
       "      <td>2</td>\n",
       "      <td>3</td>\n",
       "      <td>6</td>\n",
       "      <td>−3</td>\n",
       "      <td>1</td>\n",
       "      <td>0</td>\n",
       "    </tr>\n",
       "  </tbody>\n",
       "</table>\n",
       "</div>"
      ],
      "text/plain": [
       "                      team     continent group  group_pos  cantidad_juegos  \\\n",
       "0                   Brazil  southamerica     A          1                3   \n",
       "1                   Mexico  northamerica     A          2                3   \n",
       "2                  Croatia        europe     A          3                3   \n",
       "3                 Cameroon        africa     A          4                3   \n",
       "4              Netherlands        europe     B          1                3   \n",
       "5                    Chile  southamerica     B          2                3   \n",
       "6                    Spain        europe     B          3                3   \n",
       "7                Australia          asia     B          4                3   \n",
       "8                 Colombia  southamerica     C          1                3   \n",
       "9                   Greece        europe     C          2                3   \n",
       "10             Ivory Coast        africa     C          3                3   \n",
       "11                   Japan          asia     C          4                3   \n",
       "12              Costa Rica  northamerica     D          1                3   \n",
       "13                 Uruguay  southamerica     D          2                3   \n",
       "14                   Italy        europe     D          3                3   \n",
       "15                 England        europe     D          4                3   \n",
       "16                  France        europe     E          1                3   \n",
       "17             Switzerland        europe     E          2                3   \n",
       "18                 Ecuador  southamerica     E          3                3   \n",
       "19                Honduras  northamerica     E          4                3   \n",
       "20               Argentina  southamerica     F          1                3   \n",
       "21                 Nigeria        africa     F          2                3   \n",
       "22  Bosnia and Herzegovina        europe     F          3                3   \n",
       "23                    Iran          asia     F          4                3   \n",
       "24                 Germany        europe     G          1                3   \n",
       "25           United States  northamerica     G          2                3   \n",
       "26                Portugal        europe     G          3                3   \n",
       "27                   Ghana        africa     G          4                3   \n",
       "28                 Belgium        europe     H          1                3   \n",
       "29                 Algeria        africa     H          2                3   \n",
       "30                  Russia        europe     H          3                3   \n",
       "31             South Korea          asia     H          4                3   \n",
       "\n",
       "    juegos_ganados  juegos_empatados  juegos_perdidos  goles_favor  \\\n",
       "0                2                 1                0            7   \n",
       "1                2                 1                0            4   \n",
       "2                1                 0                2            6   \n",
       "3                0                 0                3            1   \n",
       "4                3                 0                0           10   \n",
       "5                2                 0                1            5   \n",
       "6                1                 0                2            4   \n",
       "7                0                 0                3            3   \n",
       "8                3                 0                0            9   \n",
       "9                1                 1                1            2   \n",
       "10               1                 0                2            4   \n",
       "11               0                 1                2            2   \n",
       "12               2                 1                0            4   \n",
       "13               2                 0                1            4   \n",
       "14               1                 0                2            2   \n",
       "15               0                 1                2            2   \n",
       "16               2                 1                0            8   \n",
       "17               2                 0                1            7   \n",
       "18               1                 1                1            3   \n",
       "19               0                 0                3            1   \n",
       "20               3                 0                0            6   \n",
       "21               1                 1                1            3   \n",
       "22               1                 0                2            4   \n",
       "23               0                 1                2            1   \n",
       "24               2                 1                0            7   \n",
       "25               1                 1                1            4   \n",
       "26               1                 1                1            4   \n",
       "27               0                 1                2            4   \n",
       "28               3                 0                0            4   \n",
       "29               1                 1                1            6   \n",
       "30               0                 2                1            2   \n",
       "31               0                 1                2            3   \n",
       "\n",
       "    goles_contra goles_diferencia  puntos  clasificado  \n",
       "0              2                5       7            1  \n",
       "1              1                3       7            1  \n",
       "2              6                0       3            0  \n",
       "3              9               −8       0            0  \n",
       "4              3                7       9            1  \n",
       "5              3                2       6            1  \n",
       "6              7               −3       3            0  \n",
       "7              9               −6       0            0  \n",
       "8              2                7       9            1  \n",
       "9              4               −2       4            1  \n",
       "10             5               −1       3            0  \n",
       "11             6               −4       1            0  \n",
       "12             1                3       7            1  \n",
       "13             4                0       6            1  \n",
       "14             3               −1       3            0  \n",
       "15             4               −2       1            0  \n",
       "16             2                6       7            1  \n",
       "17             6                1       6            1  \n",
       "18             3                0       4            0  \n",
       "19             8               −7       0            0  \n",
       "20             3                3       9            1  \n",
       "21             3                0       4            1  \n",
       "22             4                0       3            0  \n",
       "23             4               −3       1            0  \n",
       "24             2                5       7            1  \n",
       "25             4                0       4            1  \n",
       "26             7               −3       4            0  \n",
       "27             6               −2       1            0  \n",
       "28             1                3       9            1  \n",
       "29             5                1       4            1  \n",
       "30             3               −1       2            0  \n",
       "31             6               −3       1            0  "
      ]
     },
     "execution_count": 505,
     "metadata": {},
     "output_type": "execute_result"
    }
   ],
   "source": [
    "# Se instala pandas\n",
    "!pip install pandas\n",
    "# Se importa pandas\n",
    "import pandas as pd\n",
    "# Se lee el archivo csv: ds_salaries.csv\n",
    "df = pd.read_csv('/Users/marce/Projects_Marce/Desafio_Latam/worldcup2014.csv', delimiter = ',')\n",
    "# Buena práctica: se da una mirada a las primeras filas del DataFrame y las columnas que lo conforman\n",
    "df.head()\n",
    "print(df.head())\n",
    "\"\"\"\n",
    "Se observan las 13 columnas: [1] team, [2] continent, [3] group, [4]group_pos, [5] cantidad_juegos, [6] juegos_ganadoss,\n",
    "[7] juegos_empatados, [8] juegos_perdidoss, [9] goles_favor, [10] goles_contra, [11] goles_diferencia, [12] puntos y [13] clasificado\n",
    "\"\"\"\n",
    "# Buena práctica: se observa el tipo de información\n",
    "df.info()\n",
    "\"\"\"\n",
    "Se observa que 9 de las 13 columnas son del tipo de dato integer. En resumen existen 32 entradas desde el registro 0 al 31 y\n",
    "13 columnas\n",
    "\"\"\"\n",
    "# Se determina el total de países únicos\n",
    "paises_unicos = df['team'].nunique()\n",
    "print(f\"Número de países únicos participantes: {paises_unicos}\")\n",
    "# Se visualizan los continentes únicos\n",
    "print('Nombre de continentes participantes:')\n",
    "print(df['continent'].unique())\n",
    "df"
   ]
  },
  {
   "cell_type": "markdown",
   "id": "dd7665a6-0d29-4493-baf2-c0cab54b763b",
   "metadata": {},
   "source": [
    "<span style=\"color:#87CEEB; font-size:20px; font-weight:bold;\">1.</span>\n",
    "<span style=\"font-size:15px;\">Considerando el experimento de seleccionar un país participante al azar, se pide determinar las probabilidades de los siguientes sucesos:</span>"
   ]
  },
  {
   "cell_type": "markdown",
   "id": "1be43ba6-3bb3-428d-a426-3c14777e820e",
   "metadata": {},
   "source": [
    "<span style=\"font-size:15px;\">Hint: define previamente condiciones para realizar los conteos</span>"
   ]
  },
  {
   "cell_type": "markdown",
   "id": "855c2555-9074-478a-99b1-08ce39a59f76",
   "metadata": {},
   "source": [
    "<span style=\"color:#87CEEB; font-size:20px; font-weight:bold;\">a.</span>\n",
    "<span style=\"font-size:15px;\">pertenecer a África</span>"
   ]
  },
  {
   "cell_type": "code",
   "execution_count": 510,
   "id": "0913dd98-51c0-41a9-8d15-eaf1172fde54",
   "metadata": {
    "scrolled": true
   },
   "outputs": [
    {
     "name": "stdout",
     "output_type": "stream",
     "text": [
      "5 países participantes pertenecen a África de un total de 32 países jugando el Mundial 2014\n",
      "Si se selecciona un país partcipante al azar, la probabilidad que pertenzca a África es:15.62%\n"
     ]
    }
   ],
   "source": [
    "\"\"\"\n",
    "La probabilidad de que el país pertenezca a África es:\n",
    "P (África) = Cantidad de países de África / Cantidad del total de países\n",
    "\"\"\"\n",
    "# Se determina países de África\n",
    "paises_africa = df[df['continent'] == 'africa'].shape[0]\n",
    "print(f\"{paises_africa} países participantes pertenecen a África de un total de {paises_unicos} países jugando el Mundial 2014\")\n",
    "# Se derermina la probabilidad de que al seleccionar un paìs particpante al azar pertenezca a África\n",
    "P_de_africa = paises_africa / paises_unicos\n",
    "# Se visualiza el resultado\n",
    "print(f\"Si se selecciona un país partcipante al azar, la probabilidad que pertenzca a África es:{P_de_africa*100:.2f}%\")"
   ]
  },
  {
   "cell_type": "markdown",
   "id": "24522c92-52b7-4a00-b4d3-1fbbab17ebae",
   "metadata": {},
   "source": [
    "<span style=\"color:#87CEEB; font-size:20px; font-weight:bold;\">b.</span>\n",
    "<span style=\"font-size:15px;\">pertenecer a Asia</span>"
   ]
  },
  {
   "cell_type": "code",
   "execution_count": 513,
   "id": "4cab35f8-f6a3-4c0c-8625-ffe1dcf275f1",
   "metadata": {},
   "outputs": [
    {
     "name": "stdout",
     "output_type": "stream",
     "text": [
      "4 países participantes pertenecen a Asia de un total de 32 países jugando el Mundial 2014\n",
      "Si se selecciona un país partcipante al azar, la probabilidad que pertenzca a Asia es:12.50%\n"
     ]
    }
   ],
   "source": [
    "\"\"\"\n",
    "La probabilidad de que el país pertenezca a Asia es:\n",
    "P (Asia) = Cantidad de países de Asia / Cantidad del total de países\n",
    "\"\"\"\n",
    "# Se determina países de Asia\n",
    "paises_asia = df[df['continent'] == 'asia'].shape[0]\n",
    "print(f\"{paises_asia} países participantes pertenecen a Asia de un total de {paises_unicos} países jugando el Mundial 2014\")\n",
    "# Se derermina la probabilidad de que al seleccionar un paìs particpante al azar pertenezca a Asia\n",
    "P_de_asia = paises_asia / paises_unicos\n",
    "# Se visualiza el resultado\n",
    "print(f\"Si se selecciona un país partcipante al azar, la probabilidad que pertenzca a Asia es:{P_de_asia*100:.2f}%\")"
   ]
  },
  {
   "cell_type": "markdown",
   "id": "df8e1e84-fa94-41fa-aea2-d87b7afff544",
   "metadata": {},
   "source": [
    "<span style=\"color:#87CEEB; font-size:20px; font-weight:bold;\">c.</span>\n",
    "<span style=\"font-size:15px;\">pertenecer a Europa</span>"
   ]
  },
  {
   "cell_type": "code",
   "execution_count": 516,
   "id": "ef86cb7e-1ae3-440a-b439-6b27c76320e6",
   "metadata": {},
   "outputs": [
    {
     "name": "stdout",
     "output_type": "stream",
     "text": [
      "13 países participantes pertenecen a Europa de un total de 32 países jugando el Mundial 2014\n",
      "Si se selecciona un país partcipante al azar, la probabilidad que pertenzca a Europa es:40.62%\n"
     ]
    }
   ],
   "source": [
    "\"\"\"\n",
    "La probabilidad de que el país pertenezca a Europa es:\n",
    "P (Europa) = Cantidad de países de Europa / Cantidad del total de países\n",
    "\"\"\"\n",
    "# Se determina países de Europa\n",
    "paises_europa = df[df['continent'] == 'europe'].shape[0]\n",
    "print(f\"{paises_europa} países participantes pertenecen a Europa de un total de {paises_unicos} países jugando el Mundial 2014\")\n",
    "# Se derermina la probabilidad de que al seleccionar un paìs particpante al azar pertenezca a Europa\n",
    "P_de_europa = paises_europa / paises_unicos\n",
    "# Se visualiza el resultado\n",
    "print(f\"Si se selecciona un país partcipante al azar, la probabilidad que pertenzca a Europa es:{P_de_europa*100:.2f}%\")"
   ]
  },
  {
   "cell_type": "markdown",
   "id": "983393ee-6ed4-493f-966c-efd27ee025e3",
   "metadata": {},
   "source": [
    "<span style=\"color:#87CEEB; font-size:20px; font-weight:bold;\">d.</span>\n",
    "<span style=\"font-size:15px;\">pertenecer a Norteamerica</span>"
   ]
  },
  {
   "cell_type": "code",
   "execution_count": 519,
   "id": "5d763c5e-ab97-44dc-9afb-8364d2e6ea48",
   "metadata": {},
   "outputs": [
    {
     "name": "stdout",
     "output_type": "stream",
     "text": [
      "4 países participantes pertenecen a Norteamérica de un total de 32 países jugando el Mundial 2014\n",
      "Si se selecciona un país partcipante al azar, la probabilidad que pertenzca a Norteamércia es:12.50%\n"
     ]
    }
   ],
   "source": [
    "\"\"\"\n",
    "La probabilidad de que el país pertenezca a Norteamerica es:\n",
    "P (Norteamerica) = Cantidad de países de Norteamerica / Cantidad del total de países\n",
    "\"\"\"\n",
    "# Se determina países de Norteamerica\n",
    "paises_norteamerica = df[df['continent'] == 'northamerica'].shape[0]\n",
    "print(f\"{paises_norteamerica} países participantes pertenecen a Norteamérica de un total de {paises_unicos} países jugando el Mundial 2014\")\n",
    "# Se derermina la probabilidad de que al seleccionar un paìs particpante al azar pertenezca a Norteamérica\n",
    "P_de_norteamerica = paises_norteamerica / paises_unicos\n",
    "# Se visualiza el resultado\n",
    "print(f\"Si se selecciona un país partcipante al azar, la probabilidad que pertenzca a Norteamércia es:{P_de_norteamerica*100:.2f}%\")"
   ]
  },
  {
   "cell_type": "markdown",
   "id": "c87d5456-7c76-4de3-b967-17ea19b906a2",
   "metadata": {},
   "source": [
    "<span style=\"color:#87CEEB; font-size:20px; font-weight:bold;\">e.</span>\n",
    "<span style=\"font-size:15px;\">pertenecer a Sudamérica</span>"
   ]
  },
  {
   "cell_type": "code",
   "execution_count": 522,
   "id": "4cd0acf3-5dfe-4e60-8789-558bf1431285",
   "metadata": {},
   "outputs": [
    {
     "name": "stdout",
     "output_type": "stream",
     "text": [
      "6 países participantes pertenecen a Sudamérica de un total de 32 países jugando el Mundial 2014\n",
      "Si se selecciona un país partcipante al azar, la probabilidad que pertenzca a Sudamércia es:18.75%\n"
     ]
    }
   ],
   "source": [
    "\"\"\"\n",
    "La probabilidad de que el país pertenezca a Sudamércia es:\n",
    "P (Sudamércia) = Cantidad de países de Sudamérica / Cantidad del total de países\n",
    "\"\"\"\n",
    "# Se determina países de Sudamérica\n",
    "paises_sudamerica = df[df['continent'] == 'southamerica'].shape[0]\n",
    "print(f\"{paises_sudamerica} países participantes pertenecen a Sudamérica de un total de {paises_unicos} países jugando el Mundial 2014\")\n",
    "# Se derermina la probabilidad de que al seleccionar un paìs particpante al azar pertenezca a Sudamércia\n",
    "P_de_sudamerica = paises_sudamerica / paises_unicos\n",
    "# Se visualiza el resultado\n",
    "print(f\"Si se selecciona un país partcipante al azar, la probabilidad que pertenzca a Sudamércia es:{P_de_sudamerica*100:.2f}%\")"
   ]
  },
  {
   "cell_type": "markdown",
   "id": "2bfbab48-dee2-4cba-84a0-99151dacd72d",
   "metadata": {},
   "source": [
    "<span style=\"color:#87CEEB; font-size:20px; font-weight:bold;\">f.</span>\n",
    "<span style=\"font-size:15px;\">clasificar a segunda ronda</span>"
   ]
  },
  {
   "cell_type": "code",
   "execution_count": 525,
   "id": "cb1431e3-d486-475c-984d-8019c2fea533",
   "metadata": {},
   "outputs": [
    {
     "name": "stdout",
     "output_type": "stream",
     "text": [
      "16 países participantes clasificaron a segunda ronda de un total de 32 países jugando el Mundial 2014\n",
      "Si se selecciona un país partcipante al azar, la probabilidad que pase a segunda ronda es:50.00%\n"
     ]
    }
   ],
   "source": [
    "\"\"\"\n",
    "La probabilidad de que el país clasifique a segunda ronda es:\n",
    "P (Segunda Ronda) = Cantidad de países clasificados / Cantidad del total de países\n",
    "\"\"\"\n",
    "# Se determina países que clasificaron a segunda ronda\n",
    "paises_segunda_ronda = df[df['clasificado'] == 1].shape[0]\n",
    "print(f\"{paises_segunda_ronda} países participantes clasificaron a segunda ronda de un total de {paises_unicos} países jugando el Mundial 2014\")\n",
    "# Se derermina la probabilidad de que al seleccionar un paìs particpante al azar clasifique a segunda ronda\n",
    "P_segunda_ronda = paises_segunda_ronda / paises_unicos\n",
    "# Se visualiza el resultado\n",
    "print(f\"Si se selecciona un país partcipante al azar, la probabilidad que pase a segunda ronda es:{P_segunda_ronda*100:.2f}%\")"
   ]
  },
  {
   "cell_type": "markdown",
   "id": "12c454be-7faa-4ebe-b782-145de04c8e71",
   "metadata": {},
   "source": [
    "<span style=\"color:#87CEEB; font-size:20px; font-weight:bold;\">g.</span>\n",
    "<span style=\"font-size:15px;\">ganar al menos un partido</span>"
   ]
  },
  {
   "cell_type": "code",
   "execution_count": 528,
   "id": "406d8576-b08e-42d6-8299-21ea5fb2b74f",
   "metadata": {},
   "outputs": [
    {
     "name": "stdout",
     "output_type": "stream",
     "text": [
      "23 países participantes ganaron al menos un partido de un total de 32 países jugando el Mundial 2014\n",
      "Si se selecciona un país partcipante al azar, la probabilidad que gane al menos un partido es:71.88%\n"
     ]
    }
   ],
   "source": [
    "\"\"\"\n",
    "La probabilidad de que el país gane al menos un partido:\n",
    "P (Ganar al Menos un Partido) = Cantidad de países que ganaron al menos un partido / Cantidad del total de países\n",
    "\"\"\"\n",
    "# Se determina países que clasificaron a segunda ronda\n",
    "paises_gana_al_menos_un_partido = df[df['juegos_ganados'] >= 1].shape[0]\n",
    "print(f\"{paises_gana_al_menos_un_partido} países participantes ganaron al menos un partido de un total de {paises_unicos} países jugando el Mundial 2014\")\n",
    "# Se derermina la probabilidad de que al seleccionar un paìs particpante al azar clasifique a segunda ronda\n",
    "P_gana_al_menos_un_partido = paises_gana_al_menos_un_partido / paises_unicos\n",
    "# Se visualiza el resultado\n",
    "print(f\"Si se selecciona un país partcipante al azar, la probabilidad que gane al menos un partido es:{P_gana_al_menos_un_partido*100:.2f}%\")"
   ]
  },
  {
   "cell_type": "markdown",
   "id": "05754f67-c033-46f3-a175-68ecf91fa185",
   "metadata": {},
   "source": [
    "<span style=\"color:#87CEEB; font-size:20px; font-weight:bold;\">h.</span>\n",
    "<span style=\"font-size:15px;\">pertenecer a Áfica y clasificar a segunda ronda</span>"
   ]
  },
  {
   "cell_type": "code",
   "execution_count": 531,
   "id": "1b9dc881-090a-40b8-93f5-c5b49b790db9",
   "metadata": {},
   "outputs": [
    {
     "name": "stdout",
     "output_type": "stream",
     "text": [
      "2 países participantes pertenecen a África y pasaron a segunda ronda de un total de 32 países jugando el Mundial 2014\n",
      "Si se selecciona un país partcipante al azar, la probabilidad que pertenezca a África y clasifique a segunda ronda es:6.25%\n"
     ]
    }
   ],
   "source": [
    "\"\"\"\n",
    "La probabilidad de que el país pertenezca a África y clasifique a segunda ronda:\n",
    "P (África y Pasar a Segunda Ronda) = Cantidad de países Africano que pasaron a segunda ronda / Cantidad del total de países\n",
    "\"\"\"\n",
    "# Se determina países que pertenecen a África y clasificaron a segunda ronda\n",
    "paises_africa_y_segunda_ronda = df[(df['continent'] == 'africa')&(df['clasificado'] == 1)].shape[0]\n",
    "print(f\"{paises_africa_y_segunda_ronda} países participantes pertenecen a África y pasaron a segunda ronda de un total de {paises_unicos} países jugando el Mundial 2014\")\n",
    "# Se derermina la probabilidad de que al seleccionar un paìs particpante al azar clasifique a segunda ronda\n",
    "P_africa_y_segunda_ronda = paises_africa_y_segunda_ronda / paises_unicos\n",
    "# Se visualiza el resultado\n",
    "print(f\"Si se selecciona un país partcipante al azar, la probabilidad que pertenezca a África y clasifique a segunda ronda es:{P_africa_y_segunda_ronda *100:.2f}%\")"
   ]
  },
  {
   "cell_type": "markdown",
   "id": "35a6768d-8ca5-442b-8811-54c6854d2950",
   "metadata": {},
   "source": [
    "<span style=\"color:#87CEEB; font-size:20px; font-weight:bold;\">i.</span>\n",
    "<span style=\"font-size:15px;\">pertenecer a Europa y clasificar a segunda ronda</span>"
   ]
  },
  {
   "cell_type": "code",
   "execution_count": 534,
   "id": "e7e5fb78-a64c-4dc6-a55f-248d553f7a0b",
   "metadata": {},
   "outputs": [
    {
     "name": "stdout",
     "output_type": "stream",
     "text": [
      "6 países participantes pertenecen a Europa y pasaron a segunda ronda de un total de 32 países jugando el Mundial 2014\n",
      "Si se selecciona un país partcipante al azar, la probabilidad que pertenezca a Europa y clasifique a segunda ronda es:18.75%\n"
     ]
    }
   ],
   "source": [
    "\"\"\"\n",
    "La probabilidad de que el país pertenezca a Europa y clasifique a segunda ronda:\n",
    "P (Europa y Pasar a Segunda Ronda) = Cantidad de países Europeos que pasaron a segunda ronda / Cantidad del total de países\n",
    "\"\"\"\n",
    "# Se determina países que pertenecen a Europa y clasificaron a segunda ronda\n",
    "paises_europa_y_segunda_ronda = df[(df['continent'] == 'europe')&(df['clasificado'] == 1)].shape[0]\n",
    "print(f\"{paises_europa_y_segunda_ronda} países participantes pertenecen a Europa y pasaron a segunda ronda de un total de {paises_unicos} países jugando el Mundial 2014\")\n",
    "# Se derermina la probabilidad de que al seleccionar un paìs particpante al azar clasifique a segunda ronda\n",
    "P_europa_y_segunda_ronda = paises_europa_y_segunda_ronda / paises_unicos\n",
    "# Se visualiza el resultado\n",
    "print(f\"Si se selecciona un país partcipante al azar, la probabilidad que pertenezca a Europa y clasifique a segunda ronda es:{P_europa_y_segunda_ronda*100:.2f}%\")"
   ]
  },
  {
   "cell_type": "markdown",
   "id": "a3a19ffd-f0b2-457e-8382-1c7dd2294056",
   "metadata": {},
   "source": [
    "<span style=\"color:#87CEEB; font-size:20px; font-weight:bold;\">j.</span>\n",
    "<span style=\"font-size:15px;\">pertenecer a Asia y clasificar a segunda ronda</span>"
   ]
  },
  {
   "cell_type": "code",
   "execution_count": 537,
   "id": "4e2b87f9-7f77-467a-a137-edb532e81344",
   "metadata": {},
   "outputs": [
    {
     "name": "stdout",
     "output_type": "stream",
     "text": [
      "0 países participantes pertenecen a Asia y pasaron a segunda ronda de un total de 32 países jugando el Mundial 2014\n",
      "Si se selecciona un país partcipante al azar, la probabilidad que pertenezca a Asia y clasifique a segunda ronda es:0.00%\n"
     ]
    }
   ],
   "source": [
    "\"\"\"\n",
    "La probabilidad de que el país pertenezca a Asia y clasifique a segunda ronda:\n",
    "P (Asia y Pasar a Segunda Ronda) = Cantidad de países Asiáticos que pasaron a segunda ronda / Cantidad del total de países\n",
    "\"\"\"\n",
    "# Se determina países que pertenecen a Asia y clasificaron a segunda ronda\n",
    "paises_asia_y_segunda_ronda = df[(df['continent'] == 'asia')&(df['clasificado'] == 1)].shape[0]\n",
    "print(f\"{paises_asia_y_segunda_ronda} países participantes pertenecen a Asia y pasaron a segunda ronda de un total de {paises_unicos} países jugando el Mundial 2014\")\n",
    "# Se derermina la probabilidad de que al seleccionar un paìs particpante al azar clasifique a segunda ronda\n",
    "P_asia_y_segunda_ronda = paises_asia_y_segunda_ronda / paises_unicos\n",
    "# Se visualiza el resultado\n",
    "print(f\"Si se selecciona un país partcipante al azar, la probabilidad que pertenezca a Asia y clasifique a segunda ronda es:{P_asia_y_segunda_ronda*100:.2f}%\")"
   ]
  },
  {
   "cell_type": "markdown",
   "id": "7517a9bc-4ce5-4969-82b4-7c4151bf27d7",
   "metadata": {},
   "source": [
    "<span style=\"color:#87CEEB; font-size:20px; font-weight:bold;\">k.</span>\n",
    "<span style=\"font-size:15px;\">pertenecer a Sudamérica y clasificar a segunda ronda</span>"
   ]
  },
  {
   "cell_type": "code",
   "execution_count": 540,
   "id": "ed0b770a-fb08-4f24-8c97-449f31f65242",
   "metadata": {},
   "outputs": [
    {
     "name": "stdout",
     "output_type": "stream",
     "text": [
      "5 países participantes pertenecen a Sudamérica y pasaron a segunda ronda de un total de 32 países jugando el Mundial 2014\n",
      "Si se selecciona un país partcipante al azar, la probabilidad que pertenezca a Sudamérica y clasifique a segunda ronda es:15.62%\n"
     ]
    }
   ],
   "source": [
    "\"\"\"\n",
    "La probabilidad de que el país pertenezca a Sudamérica y clasifique a segunda ronda:\n",
    "P (Sudamérica y Pasar a Segunda Ronda) = Cantidad de países Sudamericanos que pasaron a segunda ronda / Cantidad del total de países\n",
    "\"\"\"\n",
    "# Se determina países que pertenecen a Sudamércia y clasificaron a segunda ronda\n",
    "paises_sudamerica_y_segunda_ronda = df[(df['continent'] == 'southamerica')&(df['clasificado'] == 1)].shape[0]\n",
    "print(f\"{paises_sudamerica_y_segunda_ronda} países participantes pertenecen a Sudamérica y pasaron a segunda ronda de un total de {paises_unicos} países jugando el Mundial 2014\")\n",
    "# Se derermina la probabilidad de que al seleccionar un paìs particpante al azar clasifique a segunda ronda\n",
    "P_sudamerica_y_segunda_ronda = paises_sudamerica_y_segunda_ronda / paises_unicos\n",
    "# Se visualiza el resultado\n",
    "print(f\"Si se selecciona un país partcipante al azar, la probabilidad que pertenezca a Sudamérica y clasifique a segunda ronda es:{P_sudamerica_y_segunda_ronda*100:.2f}%\")"
   ]
  },
  {
   "cell_type": "markdown",
   "id": "356c537e-d032-400d-ad3a-b52df6d25b41",
   "metadata": {},
   "source": [
    "<span style=\"color:#87CEEB; font-size:20px; font-weight:bold;\">l.</span>\n",
    "<span style=\"font-size:15px;\">pertenecer a Norteamérica y clasificar a segunda ronda</span>"
   ]
  },
  {
   "cell_type": "code",
   "execution_count": 543,
   "id": "dd4ed09d-3b43-49b8-90bf-613945aafd05",
   "metadata": {},
   "outputs": [
    {
     "name": "stdout",
     "output_type": "stream",
     "text": [
      "3 países participantes pertenecen a Norteamérica y pasaron a segunda ronda de un total de 32 países jugando el Mundial 2014\n",
      "Si se selecciona un país partcipante al azar, la probabilidad que pertenezca a Norteamérica y clasifique a segunda ronda es:9.38%\n"
     ]
    }
   ],
   "source": [
    "\"\"\"\n",
    "La probabilidad de que el país pertenezca a Norteamércia y clasifique a segunda ronda:\n",
    "P (Norteamérica y Pasar a Segunda Ronda) = Cantidad de países Norteamericanos que pasaron a segunda ronda / Cantidad del total de países\n",
    "\"\"\"\n",
    "# Se determina países que pertenecen a Norteamérica y clasificaron a segunda ronda\n",
    "paises_norteamerica_y_segunda_ronda = df[(df['continent'] == 'northamerica')&(df['clasificado'] == 1)].shape[0]\n",
    "print(f\"{paises_norteamérica_y_segunda_ronda} países participantes pertenecen a Norteamérica y pasaron a segunda ronda de un total de {paises_unicos} países jugando el Mundial 2014\")\n",
    "# Se derermina la probabilidad de que al seleccionar un paìs particpante al azar clasifique a segunda ronda\n",
    "P_norteamerica_y_segunda_ronda = paises_norteamérica_y_segunda_ronda / paises_unicos\n",
    "# Se visualiza el resultado\n",
    "print(f\"Si se selecciona un país partcipante al azar, la probabilidad que pertenezca a Norteamérica y clasifique a segunda ronda es:{P_norteamérica_y_segunda_ronda*100:.2f}%\")"
   ]
  },
  {
   "cell_type": "markdown",
   "id": "49c53c81-333b-42c1-beec-56c1b3a01e1f",
   "metadata": {},
   "source": [
    "<span style=\"color:#87CEEB; font-size:20px; font-weight:bold;\">m.</span>\n",
    "<span style=\"font-size:15px;\">pertenecer a África o clasificar a segunda ronda</span>"
   ]
  },
  {
   "cell_type": "code",
   "execution_count": 546,
   "id": "87955bf4-032e-4c81-98e7-801b5878e576",
   "metadata": {},
   "outputs": [
    {
     "name": "stdout",
     "output_type": "stream",
     "text": [
      "Si se selecciona un país partcipante al azar, la probabilidad que pertenezca a África o clasifique a segunda ronda es:59.38%\n"
     ]
    }
   ],
   "source": [
    "\"\"\"\n",
    "La probabilidad de que el país pertenezca a África o haya clasificado a segunda ronda es la suma de las dos probabilidades menos la\n",
    "probabilidad de que el país pertenezca a África y haya clasificado\n",
    "P (Áfica o Pasar a Segunda Ronda) = P_de_africa + P_segunda_ronda - P_africa_y_segunda_ronda\n",
    "\"\"\"\n",
    "P_africa_o_segunda_ronda = P_de_africa + P_segunda_ronda - P_africa_y_segunda_ronda\n",
    "# Se visualiza el resultado\n",
    "print(f\"Si se selecciona un país partcipante al azar, la probabilidad que pertenezca a África o clasifique a segunda ronda es:{P_africa_o_segunda_ronda*100:.2f}%\")"
   ]
  },
  {
   "cell_type": "markdown",
   "id": "ccffbb2e-5cba-41c9-999d-e4f9fe13b25e",
   "metadata": {},
   "source": [
    "<span style=\"color:#87CEEB; font-size:20px; font-weight:bold;\">n.</span>\n",
    "<span style=\"font-size:15px;\">pertenecer a Europa o clasificar a segunda ronda</span>"
   ]
  },
  {
   "cell_type": "code",
   "execution_count": 549,
   "id": "ee897cda-3c11-452d-a861-1e512b2af3d4",
   "metadata": {},
   "outputs": [
    {
     "name": "stdout",
     "output_type": "stream",
     "text": [
      "Si se selecciona un país partcipante al azar, la probabilidad que pertenezca a Europa o clasifique a segunda ronda es:71.88%\n"
     ]
    }
   ],
   "source": [
    "\"\"\"\n",
    "La probabilidad de que el país pertenezca a Europa o haya clasificado a segunda ronda es la suma de las dos probabilidades menos la\n",
    "probabilidad de que el país pertenezca a Europa y haya clasificado\n",
    "P (Europa o Pasar a Segunda Ronda) = P_de_europa + P_segunda_ronda - P_europa_y_segunda_ronda\n",
    "\"\"\"\n",
    "P_europa_o_segunda_ronda = P_de_europa + P_segunda_ronda - P_europa_y_segunda_ronda\n",
    "# Se visualiza el resultado\n",
    "print(f\"Si se selecciona un país partcipante al azar, la probabilidad que pertenezca a Europa o clasifique a segunda ronda es:{P_europa_o_segunda_ronda*100:.2f}%\")"
   ]
  },
  {
   "cell_type": "markdown",
   "id": "e535b1a3-541c-4bc5-a5aa-7ec17d289d5b",
   "metadata": {},
   "source": [
    "<span style=\"color:#87CEEB; font-size:20px; font-weight:bold;\">o.</span>\n",
    "<span style=\"font-size:15px;\">pertenecer a Asia o clasificar a segunda ronda</span>"
   ]
  },
  {
   "cell_type": "code",
   "execution_count": 552,
   "id": "dc347b63-8667-4ccd-bc9e-51c49f351380",
   "metadata": {},
   "outputs": [
    {
     "name": "stdout",
     "output_type": "stream",
     "text": [
      "Si se selecciona un país partcipante al azar, la probabilidad que pertenezca a Asia o clasifique a segunda ronda es:90.62%\n"
     ]
    }
   ],
   "source": [
    "\"\"\"\n",
    "La probabilidad de que el país pertenezca a Asia o haya clasificado a segunda ronda es la suma de las dos probabilidades menos la\n",
    "probabilidad de que el país pertenezca a Asia y haya clasificado\n",
    "P (Asia o Pasar a Segunda Ronda) = P_de_asia + P_segunda_ronda - P_asia_y_segunda_ronda\n",
    "\"\"\"\n",
    "P_asia_o_segunda_ronda = P_de_europa + P_segunda_ronda - P_asia_y_segunda_ronda\n",
    "# Se visualiza el resultado\n",
    "print(f\"Si se selecciona un país partcipante al azar, la probabilidad que pertenezca a Asia o clasifique a segunda ronda es:{P_asia_o_segunda_ronda*100:.2f}%\")"
   ]
  },
  {
   "cell_type": "markdown",
   "id": "46b8f4e5-e200-4550-a93c-70818bcab177",
   "metadata": {},
   "source": [
    "<span style=\"color:#87CEEB; font-size:20px; font-weight:bold;\">p.</span>\n",
    "<span style=\"font-size:15px;\">pertenecer a Sudamérica o clasificar a segunda ronda</span>"
   ]
  },
  {
   "cell_type": "code",
   "execution_count": 555,
   "id": "dd12a893-7d23-477d-960a-ac354fdd176d",
   "metadata": {},
   "outputs": [
    {
     "name": "stdout",
     "output_type": "stream",
     "text": [
      "Si se selecciona un país partcipante al azar, la probabilidad que pertenezca a Sudamérica o clasifique a segunda ronda es:53.12%\n"
     ]
    }
   ],
   "source": [
    "\"\"\"\n",
    "La probabilidad de que el país pertenezca a Sudamérica o haya clasificado a segunda ronda es la suma de las dos probabilidades menos la\n",
    "probabilidad de que el país pertenezca a Sudamérica y haya clasificado\n",
    "P (Sudamérica o Pasar a Segunda Ronda) = P_de_sudamerica + P_segunda_ronda - P_sudamerica_y_segunda_ronda\n",
    "\"\"\"\n",
    "P_sudamerica_o_segunda_ronda = P_de_sudamerica + P_segunda_ronda - P_sudamerica_y_segunda_ronda\n",
    "# Se visualiza el resultado\n",
    "print(f\"Si se selecciona un país partcipante al azar, la probabilidad que pertenezca a Sudamérica o clasifique a segunda ronda es:{P_sudamerica_o_segunda_ronda*100:.2f}%\")"
   ]
  },
  {
   "cell_type": "markdown",
   "id": "37366bd1-ebe5-4061-8d58-82e9e2e00b6e",
   "metadata": {},
   "source": [
    "<span style=\"color:#87CEEB; font-size:20px; font-weight:bold;\">q.</span>\n",
    "<span style=\"font-size:15px;\">pertenecer a Norteamérica o clasificar a segunda ronda</span>"
   ]
  },
  {
   "cell_type": "code",
   "execution_count": 558,
   "id": "65db0795-e2ae-4e80-8c39-fe017a2b88a6",
   "metadata": {},
   "outputs": [
    {
     "name": "stdout",
     "output_type": "stream",
     "text": [
      "Si se selecciona un país partcipante al azar, la probabilidad que pertenezca a Norteamérica o clasifique a segunda ronda es:53.12%\n"
     ]
    }
   ],
   "source": [
    "\"\"\"\n",
    "La probabilidad de que el país pertenezca a Norteamérica o haya clasificado a segunda ronda es la suma de las dos probabilidades menos la\n",
    "probabilidad de que el país pertenezca a Norteamérica y haya clasificado\n",
    "P (Norteamérica o Pasar a Segunda Ronda) = P_de_norteamerica + P_segunda_ronda - P_norteamerica_y_segunda_ronda\n",
    "\"\"\"\n",
    "P_norteamerica_o_segunda_ronda = P_de_norteamerica + P_segunda_ronda - P_norteamerica_y_segunda_ronda\n",
    "# Se visualiza el resultado\n",
    "print(f\"Si se selecciona un país partcipante al azar, la probabilidad que pertenezca a Norteamérica o clasifique a segunda ronda es:{P_norteamerica_o_segunda_ronda*100:.2f}%\")"
   ]
  },
  {
   "cell_type": "markdown",
   "id": "7f51a593-f647-4312-98f5-761e15f21eb8",
   "metadata": {},
   "source": [
    "<span style=\"color:#87CEEB; font-size:20px; font-weight:bold;\">r.</span>\n",
    "<span style=\"font-size:15px;\">pertenecer a África y haber ganado al menos un partido</span>"
   ]
  },
  {
   "cell_type": "code",
   "execution_count": 561,
   "id": "7b2287af-0336-44de-9234-28acd2d25b1a",
   "metadata": {},
   "outputs": [
    {
     "name": "stdout",
     "output_type": "stream",
     "text": [
      "3 países participantes pertenecen a África y ganaron al menos un partido de un total de 32 países jugando el Mundial 2014\n",
      "Si se selecciona un país partcipante al azar, la probabilidad que pertenezca a África y haya ganado al menos un partido es:9.38%\n"
     ]
    }
   ],
   "source": [
    "\"\"\"\n",
    "La probabilidad de que el país pertenezca a África y haya ganado al menos un partido:\n",
    "P (África y Ganar al Menos un Partido) = Cantidad de países Africanos que ganaron al menos un partido / Cantidad del total de países\n",
    "\"\"\"\n",
    "# Se determina países que pertenecen a África y ganaron al menos un partido\n",
    "paises_africa_y_gana_al_menos_un_partido = df[(df['continent'] == 'africa')&(df['juegos_ganados'] >= 1)].shape[0]\n",
    "print(f\"{paises_africa_y_gana_al_menos_un_partido} países participantes pertenecen a África y ganaron al menos un partido de un total de {paises_unicos} países jugando el Mundial 2014\")\n",
    "# Se derermina la probabilidad de que al seleccionar un paìs particpante al azar pertenezca a África y haya ganado al menos un partido\n",
    "P_africa_y_gana_al_menos_un_partido = paises_africa_y_gana_al_menos_un_partido / paises_unicos\n",
    "# Se visualiza el resultado\n",
    "print(f\"Si se selecciona un país partcipante al azar, la probabilidad que pertenezca a África y haya ganado al menos un partido es:{P_africa_y_gana_al_menos_un_partido*100:.2f}%\")"
   ]
  },
  {
   "cell_type": "markdown",
   "id": "f7ed8bf2-ca3f-455f-808a-14b88785ce50",
   "metadata": {},
   "source": [
    "<span style=\"color:#87CEEB; font-size:20px; font-weight:bold;\">s.</span>\n",
    "<span style=\"font-size:15px;\">pertenecer a Europa y haber ganado al menos un partido</span>"
   ]
  },
  {
   "cell_type": "code",
   "execution_count": 564,
   "id": "16bb8f61-c1ad-4eb3-af4e-af486c06a81d",
   "metadata": {},
   "outputs": [
    {
     "name": "stdout",
     "output_type": "stream",
     "text": [
      "11 países participantes pertenecen a Europa y ganaron al menos un partido de un total de 32 países jugando el Mundial 2014\n",
      "Si se selecciona un país partcipante al azar, la probabilidad que pertenezca a Europa y haya ganado al menos un partido es:34.38%\n"
     ]
    }
   ],
   "source": [
    "\"\"\"\n",
    "La probabilidad de que el país pertenezca a Europa y haya ganado al menos un partido:\n",
    "P (Europa y Ganar al Menos un Partido) = Cantidad de países Europeos que ganaron al menos un partido / Cantidad del total de países\n",
    "\"\"\"\n",
    "# Se determina países que pertenecen a Europa y ganaron al menos un partido\n",
    "paises_europa_y_gana_al_menos_un_partido = df[(df['continent'] == 'europe')&(df['juegos_ganados'] >= 1)].shape[0]\n",
    "print(f\"{paises_europa_y_gana_al_menos_un_partido} países participantes pertenecen a Europa y ganaron al menos un partido de un total de {paises_unicos} países jugando el Mundial 2014\")\n",
    "# Se derermina la probabilidad de que al seleccionar un país al azar pertenezca a Europa y haya ganado al menos un partido\n",
    "P_europa_y_gana_al_menos_un_partido = paises_europa_y_gana_al_menos_un_partido / paises_unicos\n",
    "# Se visualiza el resultado\n",
    "print(f\"Si se selecciona un país partcipante al azar, la probabilidad que pertenezca a Europa y haya ganado al menos un partido es:{P_europa_y_gana_al_menos_un_partido*100:.2f}%\")"
   ]
  },
  {
   "cell_type": "markdown",
   "id": "c6ab6718-e539-4b4a-b397-bb1bceb427f7",
   "metadata": {},
   "source": [
    "<span style=\"color:#87CEEB; font-size:20px; font-weight:bold;\">t.</span>\n",
    "<span style=\"font-size:15px;\">pertenecer a Asia y haber ganado al menos un partido</span>"
   ]
  },
  {
   "cell_type": "code",
   "execution_count": 567,
   "id": "baac9753-abae-4461-927c-bcf0d118e49e",
   "metadata": {},
   "outputs": [
    {
     "name": "stdout",
     "output_type": "stream",
     "text": [
      "0 países participantes pertenecen a Asia y ganaron al menos un partido de un total de 32 países jugando el Mundial 2014\n",
      "Si se selecciona un país partcipante al azar, la probabilidad que pertenezca a Asia y haya ganado al menos un partido es:0.00%\n"
     ]
    }
   ],
   "source": [
    "\"\"\"\n",
    "La probabilidad de que el país pertenezca a Asia y haya ganado al menos un partido:\n",
    "P (Asia y Ganar al Menos un Partido) = Cantidad de países Asiáticos que ganaron al menos un partido / Cantidad del total de países\n",
    "\"\"\"\n",
    "# Se determina países que pertenecen a Asia y ganaron al menos un partido\n",
    "paises_asia_y_gana_al_menos_un_partido = df[(df['continent'] == 'asia')&(df['juegos_ganados'] >= 1)].shape[0]\n",
    "print(f\"{paises_asia_y_gana_al_menos_un_partido} países participantes pertenecen a Asia y ganaron al menos un partido de un total de {paises_unicos} países jugando el Mundial 2014\")\n",
    "# Se derermina la probabilidad de que al seleccionar un país al azar pertenezca a Asia y haya ganado al menos un partido\n",
    "P_asia_y_gana_al_menos_un_partido = paises_asia_y_gana_al_menos_un_partido / paises_unicos\n",
    "# Se visualiza el resultado\n",
    "print(f\"Si se selecciona un país partcipante al azar, la probabilidad que pertenezca a Asia y haya ganado al menos un partido es:{P_asia_y_gana_al_menos_un_partido*100:.2f}%\")"
   ]
  },
  {
   "cell_type": "markdown",
   "id": "216b21e6-a389-4156-9482-0f18454e5bc0",
   "metadata": {},
   "source": [
    "<span style=\"color:#87CEEB; font-size:20px; font-weight:bold;\">u.</span>\n",
    "<span style=\"font-size:15px;\">pertenecer a Sudamérica y haber ganado al menos un partido</span>"
   ]
  },
  {
   "cell_type": "code",
   "execution_count": 570,
   "id": "01d51548-0138-45b7-8239-c3d840fcc11b",
   "metadata": {},
   "outputs": [
    {
     "name": "stdout",
     "output_type": "stream",
     "text": [
      "6 países participantes pertenecen a Sudamérica y ganaron al menos un partido de un total de 32 países jugando el Mundial 2014\n",
      "Si se selecciona un país partcipante al azar, la probabilidad que pertenezca a Sudamérica y haya ganado al menos un partido es:18.75%\n"
     ]
    }
   ],
   "source": [
    "\"\"\"\n",
    "La probabilidad de que el país pertenezca a Sudamérica y haya ganado al menos un partido:\n",
    "P (Sudamérica y Ganar al Menos un Partido) = Cantidad de países Sudamericanos que ganaron al menos un partido / Cantidad del total de países\n",
    "\"\"\"\n",
    "# Se determina países que pertenecen a Sudamérica y ganaron al menos un partido\n",
    "paises_sudamerica_y_gana_al_menos_un_partido = df[(df['continent'] == 'southamerica')&(df['juegos_ganados'] >= 1)].shape[0]\n",
    "print(f\"{paises_sudamerica_y_gana_al_menos_un_partido} países participantes pertenecen a Sudamérica y ganaron al menos un partido de un total de {paises_unicos} países jugando el Mundial 2014\")\n",
    "# Se derermina la probabilidad de que al seleccionar un país al azar pertenezca a Sudamérica y haya ganado al menos un partido\n",
    "P_sudamerica_y_gana_al_menos_un_partido = paises_sudamerica_y_gana_al_menos_un_partido / paises_unicos\n",
    "# Se visualiza el resultado\n",
    "print(f\"Si se selecciona un país partcipante al azar, la probabilidad que pertenezca a Sudamérica y haya ganado al menos un partido es:{P_sudamerica_y_gana_al_menos_un_partido*100:.2f}%\")"
   ]
  },
  {
   "cell_type": "markdown",
   "id": "a5f858f9-51f8-4ef7-92ab-c4ac5fc51a14",
   "metadata": {},
   "source": [
    "<span style=\"color:#87CEEB; font-size:20px; font-weight:bold;\">v.</span>\n",
    "<span style=\"font-size:15px;\">pertenecer a Norteamérica y haber ganado al menos un partido</span>"
   ]
  },
  {
   "cell_type": "code",
   "execution_count": 573,
   "id": "8f831974-14bc-47b6-8b0c-13fd3a883e67",
   "metadata": {},
   "outputs": [
    {
     "name": "stdout",
     "output_type": "stream",
     "text": [
      "3 países participantes pertenecen a Norteamérica y ganaron al menos un partido de un total de 32 países jugando el Mundial 2014\n",
      "Si se selecciona un país partcipante al azar, la probabilidad que pertenezca a Norteamérica y haya ganado al menos un partido es:9.38%\n"
     ]
    }
   ],
   "source": [
    "\"\"\"\n",
    "La probabilidad de que el país pertenezca a Norteamérica y haya ganado al menos un partido:\n",
    "P (Norteamérica y Ganar al Menos un Partido) = Cantidad de países Norteamericanos que ganaron al menos un partido / Cantidad del total de países\n",
    "\"\"\"\n",
    "# Se determina países que pertenecen a Norteamérica y ganaron al menos un partido\n",
    "paises_norteamerica_y_gana_al_menos_un_partido = df[(df['continent'] == 'northamerica')&(df['juegos_ganados'] >= 1)].shape[0]\n",
    "print(f\"{paises_norteamerica_y_gana_al_menos_un_partido} países participantes pertenecen a Norteamérica y ganaron al menos un partido de un total de {paises_unicos} países jugando el Mundial 2014\")\n",
    "# Se derermina la probabilidad de que al seleccionar un país al azar pertenezca a Norteamérica y haya ganado al menos un partido\n",
    "P_norteamerica_y_gana_al_menos_un_partido = paises_norteamerica_y_gana_al_menos_un_partido / paises_unicos\n",
    "# Se visualiza el resultado\n",
    "print(f\"Si se selecciona un país partcipante al azar, la probabilidad que pertenezca a Norteamérica y haya ganado al menos un partido es:{P_norteamerica_y_gana_al_menos_un_partido*100:.2f}%\")"
   ]
  },
  {
   "cell_type": "markdown",
   "id": "f00cbc7c-230b-48b7-9f9a-eb3d0287175e",
   "metadata": {},
   "source": [
    "<span style=\"color:#87CEEB; font-size:20px; font-weight:bold;\">w.</span>\n",
    "<span style=\"font-size:15px;\">haber ganado al menos un partido y clasificar a segunda ronda</span>"
   ]
  },
  {
   "cell_type": "code",
   "execution_count": 576,
   "id": "542fe4a3-13f6-44c4-8332-14fb74bc9c8c",
   "metadata": {},
   "outputs": [
    {
     "name": "stdout",
     "output_type": "stream",
     "text": [
      "16 países participantes ganaron al menos un partido y han pasado a segunda ronda de un total de 32 países jugando el Mundial 2014\n",
      "Si se selecciona un país partcipante al azar, la probabilidad que haya ganado al menos un partido y haya pasado a segunda ronda es:50.00%\n"
     ]
    }
   ],
   "source": [
    "\"\"\"\n",
    "La probabilidad de que el país haya ganado al menos un partido y haya clasificado a segunda ronda:\n",
    "P (Ganado al Menos un Partido y Pasar a segunda ronda) = Cantidad de países que ganaron al menos un partido y pasaron a segunda ronda / Cantidad del total de países\n",
    "\"\"\"\n",
    "# Se determina países que han ganado al menos un partido y han pasado a segunda ronda\n",
    "paises_gana_al_menos_un_partido_y_seguna_ronda = df[(df['juegos_ganados'] >= 1)&(df['clasificado'] == 1)].shape[0]\n",
    "print(f\"{paises_gana_al_menos_un_partido_y_seguna_ronda} países participantes ganaron al menos un partido y han pasado a segunda ronda de un total de {paises_unicos} países jugando el Mundial 2014\")\n",
    "# Se derermina la probabilidad de que al seleccionar un país al azar haya ganado al menos un partido y haya pasado a segunda ronda\n",
    "P_paises_gana_al_menos_un_partido_y_seguna_ronda = paises_gana_al_menos_un_partido_y_seguna_ronda / paises_unicos\n",
    "# Se visualiza el resultado\n",
    "print(f\"Si se selecciona un país partcipante al azar, la probabilidad que haya ganado al menos un partido y haya pasado a segunda ronda es:{P_paises_gana_al_menos_un_partido_y_seguna_ronda*100:.2f}%\")"
   ]
  },
  {
   "cell_type": "markdown",
   "id": "ad20f23a-8ada-43f2-b8e6-4d645a8b15d9",
   "metadata": {},
   "source": [
    "<span style=\"color:#87CEEB; font-size:20px; font-weight:bold;\">2.</span>\n",
    "<span style=\"font-size:15px;\">A partir de las probabilidades anteriores, y sin realizar conteos, calcular las siguiente probabilidades:</span>"
   ]
  },
  {
   "cell_type": "markdown",
   "id": "d6b59c69-f8c6-4500-8af8-10d21cda1584",
   "metadata": {},
   "source": [
    "<span style=\"color:#87CEEB; font-size:20px; font-weight:bold;\">a.</span>\n",
    "<span style=\"font-size:15px;\">pertenecer a Europa, si se sabe que clasificó</span>"
   ]
  },
  {
   "cell_type": "code",
   "execution_count": 580,
   "id": "357657cd-1fbc-4b96-9d2e-e08bc5a71255",
   "metadata": {},
   "outputs": [
    {
     "name": "stdout",
     "output_type": "stream",
     "text": [
      "Si se selecciona un país participante al azar, la probabilidad de que el país pertenezca a Europa si se sabe que clasificó es:37.50%\n"
     ]
    }
   ],
   "source": [
    "\"\"\"\n",
    "La probabilidad de que el país pertenezca a Europa si se sabe que clasificó, de acuerdo al Teorema de Bayes:\n",
    "P(Europa | Clasificado)  = P(Clasificado | Europa) * P(Europa) / P(Clasificado)\n",
    "\"\"\"\n",
    "# Se determina la probabilidad de haber clasificado y ser de Europa\n",
    "paises_clasifica_y_europa = df[(df['continent'] == 'europe')&(df['clasificado'] == 1)].shape[0]\n",
    "P_clasifica_y_europa = paises_clasifica_y_europa / paises_unicos\n",
    "# Se determina la probabilidad de pertenecer a Europa si se sabe que clasificó\n",
    "P_europa_dado_clasificado = P_clasifica_y_europa / P_segunda_ronda\n",
    "# Se visualiza el resultado\n",
    "print(f\"Si se selecciona un país participante al azar, la probabilidad de que el país pertenezca a Europa si se sabe que clasificó es:{P_europa_dado_clasificado*100:.2f}%\")"
   ]
  },
  {
   "cell_type": "markdown",
   "id": "27fa314e-85d8-4b5a-ae83-083f7e71c576",
   "metadata": {},
   "source": [
    "<span style=\"color:#87CEEB; font-size:20px; font-weight:bold;\">b.</span>\n",
    "<span style=\"font-size:15px;\">pertenecer a Sudamérica, si se sabe que clasificó</span>"
   ]
  },
  {
   "cell_type": "code",
   "execution_count": 583,
   "id": "52016eae-9763-4bef-9c89-ac106a759276",
   "metadata": {},
   "outputs": [
    {
     "name": "stdout",
     "output_type": "stream",
     "text": [
      "Si se selecciona un país participante al azar, la probabilidad de que el país pertenezca a Europa si se sabe que clasificó es:31.25%\n"
     ]
    }
   ],
   "source": [
    "\"\"\"\n",
    "La probabilidad de que el país pertenezca a Sudamérica si se sabe que clasificó, de acuerdo al Teorema de Bayes:\n",
    "P(Sudamérica | Clasificado)  = P(Clasificado | Sudamércia) * P(Sudamérica) / P(Clasificado)\n",
    "\"\"\"\n",
    "# Se determina la probabilidad de haber clasificado y ser de Sudamérica\n",
    "paises_clasifica_y_sudamerica = df[(df['continent'] == 'southamerica')&(df['clasificado'] == 1)].shape[0]\n",
    "P_clasifica_y_sudamerica = paises_clasifica_y_sudamerica / paises_unicos\n",
    "# Se determina la probabilidad de pertenecer a Sudamérica si se sabe que clasificó\n",
    "P_sudamerica_dado_clasificado = P_clasifica_y_sudamerica / P_segunda_ronda\n",
    "# Se visualiza el resultado\n",
    "print(f\"Si se selecciona un país participante al azar, la probabilidad de que el país pertenezca a Europa si se sabe que clasificó es:{P_sudamerica_dado_clasificado*100:.2f}%\")"
   ]
  },
  {
   "cell_type": "markdown",
   "id": "9114e588-3a4a-4785-932c-01c99210c754",
   "metadata": {},
   "source": [
    "<span style=\"color:#87CEEB; font-size:20px; font-weight:bold;\">c.</span>\n",
    "<span style=\"font-size:15px;\">pertenecer a África, si ses sabe que clasificó</span>"
   ]
  },
  {
   "cell_type": "code",
   "execution_count": 586,
   "id": "d8ba6856-5d55-4d5a-b2ab-7f7550d634d7",
   "metadata": {},
   "outputs": [
    {
     "name": "stdout",
     "output_type": "stream",
     "text": [
      "Si se selecciona un país participante al azar, la probabilidad de que el país pertenezca a Europa si se sabe que clasificó es:12.50%\n"
     ]
    }
   ],
   "source": [
    "\"\"\"\n",
    "La probabilidad de que el país pertenezca a África si se sabe que clasificó, de acuerdo al Teorema de Bayes:\n",
    "P(África | Clasificado)  = P(Clasificado | África) * P(África) / P(Clasificado)\n",
    "\"\"\"\n",
    "# Se determina la probabilidad de haber clasificado y ser de África\n",
    "paises_clasifica_y_africa = df[(df['continent'] == 'africa')&(df['clasificado'] == 1)].shape[0]\n",
    "P_clasifica_y_africa = paises_clasifica_y_africa / paises_unicos\n",
    "# Se determina la probabilidad de pertenecer a África si se sabe que clasificó\n",
    "P_africa_dado_clasificado = P_clasifica_y_africa / P_segunda_ronda\n",
    "# Se visualiza el resultado\n",
    "print(f\"Si se selecciona un país participante al azar, la probabilidad de que el país pertenezca a Europa si se sabe que clasificó es:{P_africa_dado_clasificado*100:.2f}%\")"
   ]
  },
  {
   "cell_type": "markdown",
   "id": "ad5949a0-baea-4d47-a337-a3f7205f0090",
   "metadata": {},
   "source": [
    "<span style=\"color:#87CEEB; font-size:20px; font-weight:bold;\">d.</span>\n",
    "<span style=\"font-size:15px;\">haber ganado al menos un partido, si se sabe que clasificó</span>"
   ]
  },
  {
   "cell_type": "code",
   "execution_count": 589,
   "id": "b3c0ca82-700f-4dd8-850f-9deb79458ea6",
   "metadata": {},
   "outputs": [
    {
     "name": "stdout",
     "output_type": "stream",
     "text": [
      "Si se selecciona un país participante al azar, la probabilidad de que el país haya ganado al menos un partido si se sabe que clasificó es:    100.00%\n"
     ]
    }
   ],
   "source": [
    "\"\"\"\n",
    "La probabilidad de haber ganado al menos un partido si se sabe que clasificó, de acuerdo al Teorema de Bayes:\n",
    "P(Ganado al Menos un Partido | Clasificado)  = P(Clasificado | Ganado al Menos un Partido) * P(Ganado al Menos un Partido) / P(Clasificado)\n",
    "\"\"\"\n",
    "# Se determina la probabilidad de haber clasificado y Ganado al Meno un Partido\n",
    "P_paises_gana_al_menos_un_partido_y_seguna_ronda\n",
    "# Se determina la probabilidad de haber ganado al menos un partido si se sabe que clasificó\n",
    "P_ganado_al_menos_un_partido_dado_clasificado = P_paises_gana_al_menos_un_partido_y_seguna_ronda / P_segunda_ronda\n",
    "# Se visualiza el resultado\n",
    "print(f\"Si se selecciona un país participante al azar, la probabilidad de que el país haya ganado al menos un partido si se sabe que clasificó es:    {P_ganado_al_menos_un_partido_dado_clasificado*100:.2f}%\")"
   ]
  },
  {
   "cell_type": "markdown",
   "id": "ad6d2a86-f2e0-4d62-bd5a-bd6d36879b3b",
   "metadata": {},
   "source": [
    "<span style=\"color:#87CEEB; font-size:20px; font-weight:bold;\">e.</span>\n",
    "<span style=\"font-size:15px;\">haber ganado al menos un partido, si se sabe que pertenece a Norteamérica</span>"
   ]
  },
  {
   "cell_type": "code",
   "execution_count": 592,
   "id": "832522e3-3d5c-4249-a00c-cf25f5362221",
   "metadata": {},
   "outputs": [
    {
     "name": "stdout",
     "output_type": "stream",
     "text": [
      "Si se selecciona un país participante al azar, la probabilidad de que el país haya ganado al menos un partido si se sabe que pertenece a Norteamérica es: 9.38%\n"
     ]
    }
   ],
   "source": [
    "\"\"\"\n",
    "La probabilidad de haber ganado al menos un partido si se sabe que pertenece a Norteamérica, de acuerdo al Teorema de Bayes:\n",
    "P(Ganado al Menos un Partido | Norteamérica)  = P(Norteamérica | Ganado al Menos un Partido) * P(Ganado al Menos un Partido) / P(Norteamérica)\n",
    "\"\"\"\n",
    "# Se determina la probabilidad de haber clasificado y ser de Norteamérica\n",
    "P_norteamerica_y_gana_al_menos_un_partido\n",
    "# Se determina la probabilidad de haber ganado al menos un partido y ser de Norteamérica\n",
    "P_ganado_al_menos_un_partido_dado_Norteamérica = paises_norteamerica_y_gana_al_menos_un_partido / paises_unicos\n",
    "# Se visualiza el resultado\n",
    "print(f\"Si se selecciona un país participante al azar, la probabilidad de que el país haya ganado al menos un partido si se sabe que pertenece a Norteamérica es: {P_ganado_al_menos_un_partido_dado_Norteamérica*100:.2f}%\")"
   ]
  },
  {
   "cell_type": "markdown",
   "id": "b309ff61-0017-4c7b-b638-378d541b25be",
   "metadata": {},
   "source": [
    "<span style=\"color:#87CEEB; font-size:20px; font-weight:bold;\">f.</span>\n",
    "<span style=\"font-size:15px;\">No haber clasificado, si se sabe que pertenece a África</span>"
   ]
  },
  {
   "cell_type": "code",
   "execution_count": 595,
   "id": "f583d347-60dc-428f-a6c2-97de2fdfbc6b",
   "metadata": {},
   "outputs": [
    {
     "name": "stdout",
     "output_type": "stream",
     "text": [
      "Si se selecciona un país participante al azar, la probabilidad de no haber clasificado si se sabe que pertenece a África es: 60.00%\n"
     ]
    }
   ],
   "source": [
    "\"\"\"\n",
    "La probabilidad de no haber clasificado si se sabe que pertenece a África, de acuerdo al Teorema de Bayes:\n",
    "P(No Clasificado | África)  = P(África | No Clasificado) * P(No Clasificado) / P(África)\n",
    "\"\"\"\n",
    "# Se determina la probabilidad de ser de África y no haber clasificad\n",
    "paises_no_clasifica_y_africa = df[(df['continent'] == 'africa')&(df['clasificado'] == 0)].shape[0]\n",
    "P_paises_no_clasifica_y_africa = paises_no_clasifica_y_africa / paises_unicos\n",
    "# Se determina la probabilidad no haber clasificado y ser de África\n",
    "P_NO_clasificado_dado_África = P_paises_no_clasifica_y_africa / P_de_africa\n",
    "# Se visualiza el resultado\n",
    "print(f\"Si se selecciona un país participante al azar, la probabilidad de no haber clasificado si se sabe que pertenece a África es: {P_NO_clasificado_dado_África*100:.2f}%\")"
   ]
  },
  {
   "cell_type": "code",
   "execution_count": null,
   "id": "84909f13-51ba-4f44-a34b-4ce07dc29e52",
   "metadata": {},
   "outputs": [],
   "source": []
  }
 ],
 "metadata": {
  "kernelspec": {
   "display_name": "Python [conda env:base] *",
   "language": "python",
   "name": "conda-base-py"
  },
  "language_info": {
   "codemirror_mode": {
    "name": "ipython",
    "version": 3
   },
   "file_extension": ".py",
   "mimetype": "text/x-python",
   "name": "python",
   "nbconvert_exporter": "python",
   "pygments_lexer": "ipython3",
   "version": "3.12.4"
  }
 },
 "nbformat": 4,
 "nbformat_minor": 5
}
