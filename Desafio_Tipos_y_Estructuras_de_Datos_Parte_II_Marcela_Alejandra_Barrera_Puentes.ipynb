{
 "cells": [
  {
   "cell_type": "markdown",
   "id": "951fe6f0-b41e-45ac-b6a2-d5f8f9911f38",
   "metadata": {},
   "source": [
    "<span style=\"color:#87CEEB; font-size:30px; font-weight:bold;\">Desafío - Tipos y Estructuras de Datos(Parte II)</span><br>\n",
    "<span style=\"font-size:15px;\">Marcela Alejandra Barrera Puentes</span>"
   ]
  },
  {
   "cell_type": "markdown",
   "id": "f0ae1fde-6d8e-401c-a877-85e92623437e",
   "metadata": {},
   "source": [
    "<span style=\"color:#87CEEB; font-size:20px; font-weight:bold;\">Descripción</span><br>\n",
    "<span style=\"font-size:15px;\">Para desarrollar este desafío necesiarás el archivo: resumen_resultados_astronautas.csv. El IMC es una medida importante que nos ayuda a determinar si una persona tiene un peso saludable para poder ser un astronauta. Para calcularlos se utiliza la fórmula</span><br>\n",
    "<span style=\"color:#87CEEB; font-size:20px; font-weight:bold;\">IMC = m / h * h</span><br>\n",
    "<span style=\"font-size:15px;\">Donde  m  corresponde al peso del astronauta en kilogramos, y  h  su altura en metros</span><br>"
   ]
  },
  {
   "cell_type": "markdown",
   "id": "51a331a1-6ece-4aa1-8acf-1b7185324c0e",
   "metadata": {},
   "source": [
    "<span style=\"color:#87CEEB; font-size:20px; font-weight:bold;\">1.</span>\n",
    "<span style=\"font-size:15px;\">Crea un DataFrame con el archivo entregado</span>\n"
   ]
  },
  {
   "cell_type": "code",
   "execution_count": 41,
   "id": "6eab89d6-ec81-4883-9993-3d9c396f5321",
   "metadata": {},
   "outputs": [
    {
     "name": "stdout",
     "output_type": "stream",
     "text": [
      "Requirement already satisfied: pandas in /opt/anaconda3/lib/python3.12/site-packages (2.2.2)\n",
      "Requirement already satisfied: numpy>=1.26.0 in /opt/anaconda3/lib/python3.12/site-packages (from pandas) (1.26.4)\n",
      "Requirement already satisfied: python-dateutil>=2.8.2 in /opt/anaconda3/lib/python3.12/site-packages (from pandas) (2.9.0.post0)\n",
      "Requirement already satisfied: pytz>=2020.1 in /opt/anaconda3/lib/python3.12/site-packages (from pandas) (2024.1)\n",
      "Requirement already satisfied: tzdata>=2022.7 in /opt/anaconda3/lib/python3.12/site-packages (from pandas) (2023.3)\n",
      "Requirement already satisfied: six>=1.5 in /opt/anaconda3/lib/python3.12/site-packages (from python-dateutil>=2.8.2->pandas) (1.16.0)\n",
      "            nombre  edad  peso  altura  evaluacion_fisica  \\\n",
      "0    Alana Morillo    32    75     180                 93   \n",
      "1   Fátima Tafalla    27    68     167                 82   \n",
      "2       Sofía Puig    29    80     185                 85   \n",
      "3  Valentina Tasis    30    65     175                 90   \n",
      "4   Regina Cicerón    31    76     183                 89   \n",
      "\n",
      "   evaluacion_psicologica  evaluacion_adaptativa  evaluacion_medica  \\\n",
      "0                      88                     78                 89   \n",
      "1                      95                     81                 87   \n",
      "2                      80                     90                 91   \n",
      "3                      91                     85                 92   \n",
      "4                      87                     83                 90   \n",
      "\n",
      "   anos_experiencia califica  \n",
      "0                 6       Si  \n",
      "1                 4       Si  \n",
      "2                 3       Si  \n",
      "3                 2       No  \n",
      "4                 7       Si  \n",
      "<class 'pandas.core.frame.DataFrame'>\n",
      "RangeIndex: 32 entries, 0 to 31\n",
      "Data columns (total 10 columns):\n",
      " #   Column                  Non-Null Count  Dtype \n",
      "---  ------                  --------------  ----- \n",
      " 0   nombre                  32 non-null     object\n",
      " 1   edad                    32 non-null     int64 \n",
      " 2   peso                    32 non-null     int64 \n",
      " 3   altura                  32 non-null     int64 \n",
      " 4   evaluacion_fisica       32 non-null     int64 \n",
      " 5   evaluacion_psicologica  32 non-null     int64 \n",
      " 6   evaluacion_adaptativa   32 non-null     int64 \n",
      " 7   evaluacion_medica       32 non-null     int64 \n",
      " 8   anos_experiencia        32 non-null     int64 \n",
      " 9   califica                32 non-null     object\n",
      "dtypes: int64(8), object(2)\n",
      "memory usage: 2.6+ KB\n"
     ]
    }
   ],
   "source": [
    "# Se instala pandas\n",
    "!pip install pandas\n",
    "# Se importa pandas\n",
    "import pandas as pd\n",
    "# Se lee el archivo csv: resumen_resultados_astronautas.csv\n",
    "df = pd.read_csv('/Users/marce/Projects_Marce/Desafio_Latam/resumen_resultados_astronautas.csv')\n",
    "# Buena práctica: se da una mirada a las primeras filas del DataFrame y las columnas que lo conforman\n",
    "df.head()\n",
    "print(df.head())\n",
    "# Se observan al menos 10 columnas con información de astronautas y registros como: nombre, edad, peso, altura ... entre otras\n",
    "# Buena práctica: se observa el tipo de información\n",
    "df.info()\n",
    "# En resumen existen 32 entradas desde el registro 0 al 31, 10 columnas como se constató más arriba. Registros de tipo entero y string"
   ]
  },
  {
   "cell_type": "code",
   "execution_count": 42,
   "id": "329f7ae8-52f6-45cd-864e-1c072efd9ea3",
   "metadata": {},
   "outputs": [
    {
     "name": "stdout",
     "output_type": "stream",
     "text": [
      "<class 'pandas.core.frame.DataFrame'>\n",
      "RangeIndex: 32 entries, 0 to 31\n",
      "Data columns (total 10 columns):\n",
      " #   Column                  Non-Null Count  Dtype \n",
      "---  ------                  --------------  ----- \n",
      " 0   nombre                  32 non-null     object\n",
      " 1   edad                    32 non-null     int64 \n",
      " 2   peso                    32 non-null     int64 \n",
      " 3   altura                  32 non-null     int64 \n",
      " 4   evaluacion_fisica       32 non-null     int64 \n",
      " 5   evaluacion_psicologica  32 non-null     int64 \n",
      " 6   evaluacion_adaptativa   32 non-null     int64 \n",
      " 7   evaluacion_medica       32 non-null     int64 \n",
      " 8   anos_experiencia        32 non-null     int64 \n",
      " 9   califica                32 non-null     object\n",
      "dtypes: int64(8), object(2)\n",
      "memory usage: 2.6+ KB\n"
     ]
    }
   ],
   "source": [
    "# Buena práctica: se observa el tipo de información\n",
    "df.info()\n",
    "# En resumen existen 32 entradas desde el registro 0 al 31, 10 columnas como se constató más arriba. Registros de tipo entero y string"
   ]
  },
  {
   "cell_type": "markdown",
   "id": "b1fea7f9-d4bd-47df-9958-29bfdfebd96e",
   "metadata": {},
   "source": [
    "<span style=\"color:#87CEEB; font-size:20px; font-weight:bold;\">2.</span>\n",
    "<span style=\"font-size:15px;\">Crea la columna \"IMC\" usando la fórmula entregada.</span>"
   ]
  },
  {
   "cell_type": "code",
   "execution_count": 43,
   "id": "beec4f12-bfa4-4c1a-822c-ff8ff02e9a35",
   "metadata": {},
   "outputs": [
    {
     "name": "stdout",
     "output_type": "stream",
     "text": [
      "                  nombre  edad  peso  altura  evaluacion_fisica  \\\n",
      "0          Alana Morillo    32    75     180                 93   \n",
      "1         Fátima Tafalla    27    68     167                 82   \n",
      "2             Sofía Puig    29    80     185                 85   \n",
      "3        Valentina Tasis    30    65     175                 90   \n",
      "4         Regina Cicerón    31    76     183                 89   \n",
      "5       Amaya de la Cruz    26    64     170                 80   \n",
      "6         María Juderías    28    78     182                 88   \n",
      "7          Perla Alcocer    30    71     168                 86   \n",
      "8      Consuela Arboleda    33    77     188                 94   \n",
      "9      María José Franco    29    70     175                 87   \n",
      "10        Emanuel Gálvez    27    73     181                 84   \n",
      "11      Alberto Graciani    28    62     163                 81   \n",
      "12  Patricio Encarnación    30    81     190                 93   \n",
      "13    Cristóbal Miralles    31    72     174                 88   \n",
      "14         Pablo Cotilla    27    75     178                 86   \n",
      "15         Pablo Capmany    29    69     171                 82   \n",
      "16      Nicolás Cambeiro    29    68     175                 88   \n",
      "17        Daniel Sánchez    26    63     167                 80   \n",
      "18         Samuel Gálvez    22    74     183                 91   \n",
      "19            José París    40    68     163                 78   \n",
      "20          Kevin Pareja    27    61     177                 85   \n",
      "21  Estefania Manzanares    31    79     179                 89   \n",
      "22        Óliver Fonseca    38    80     164                 77   \n",
      "23  Christopher Berganza    23    70     173                 92   \n",
      "24         Álvaro Espina    30    76     180                 90   \n",
      "25      Leonardo Magrina    39    65     171                 79   \n",
      "26       Fernando Gálvez    25    72     168                 88   \n",
      "27       Sophie González    36    75     176                 85   \n",
      "28           Alexia Gaos    21    69     169                 93   \n",
      "29         Fátima Varela    33    73     182                 91   \n",
      "30           Clara Arias    44    63     162                 77   \n",
      "31       Paloma Berganza    28    62     174                 87   \n",
      "\n",
      "    evaluacion_psicologica  evaluacion_adaptativa  evaluacion_medica  \\\n",
      "0                       88                     78                 89   \n",
      "1                       95                     81                 87   \n",
      "2                       80                     90                 91   \n",
      "3                       91                     85                 92   \n",
      "4                       87                     83                 90   \n",
      "5                       94                     79                 86   \n",
      "6                       85                     87                 92   \n",
      "7                       92                     82                 88   \n",
      "8                       83                     89                 93   \n",
      "9                       90                     80                 89   \n",
      "10                      89                     84                 87   \n",
      "11                      93                     77                 85   \n",
      "12                      86                     88                 91   \n",
      "13                      91                     86                 92   \n",
      "14                      87                     85                 89   \n",
      "15                      94                     80                 88   \n",
      "16                      90                     81                 90   \n",
      "17                      93                     78                 85   \n",
      "18                      91                     91                 86   \n",
      "19                      85                     85                 77   \n",
      "20                      90                     87                 79   \n",
      "21                      82                     85                 81   \n",
      "22                      88                     90                 89   \n",
      "23                      93                     92                 85   \n",
      "24                      84                     87                 82   \n",
      "25                      92                     90                 85   \n",
      "26                      88                     89                 83   \n",
      "27                      82                     84                 80   \n",
      "28                      94                     93                 86   \n",
      "29                      90                     91                 88   \n",
      "30                      87                     88                 84   \n",
      "31                      85                     87                 78   \n",
      "\n",
      "    anos_experiencia califica        IMC  \n",
      "0                  6       Si  23.148148  \n",
      "1                  4       Si  24.382373  \n",
      "2                  3       Si  23.374726  \n",
      "3                  2       No  21.224490  \n",
      "4                  7       Si  22.694019  \n",
      "5                  4       No  22.145329  \n",
      "6                  5       Si  23.547881  \n",
      "7                  3       No  25.155896  \n",
      "8                  8       Si  21.785876  \n",
      "9                  2       No  22.857143  \n",
      "10                 3       Si  22.282592  \n",
      "11                 5       No  23.335466  \n",
      "12                 4       Si  22.437673  \n",
      "13                 6       No  23.781213  \n",
      "14                 2       Si  23.671254  \n",
      "15                 4       No  23.597004  \n",
      "16                 2       No  22.204082  \n",
      "17                 4       No  22.589551  \n",
      "18                 3       Si  22.096808  \n",
      "19                 8       No  25.593737  \n",
      "20                 2       Si  19.470778  \n",
      "21                 5       Si  24.655910  \n",
      "22                 9       No  29.744200  \n",
      "23                 1       Si  23.388687  \n",
      "24                 4       Si  23.456790  \n",
      "25                 8       No  22.229062  \n",
      "26                 2       Si  25.510204  \n",
      "27                 7       No  24.212293  \n",
      "28                 0       Si  24.158818  \n",
      "29                 5       Si  22.038401  \n",
      "30                11       No  24.005487  \n",
      "31                 3       Si  20.478267  \n",
      "                  nombre  peso  altura        IMC\n",
      "0          Alana Morillo    75     180  23.148148\n",
      "1         Fátima Tafalla    68     167  24.382373\n",
      "2             Sofía Puig    80     185  23.374726\n",
      "3        Valentina Tasis    65     175  21.224490\n",
      "4         Regina Cicerón    76     183  22.694019\n",
      "5       Amaya de la Cruz    64     170  22.145329\n",
      "6         María Juderías    78     182  23.547881\n",
      "7          Perla Alcocer    71     168  25.155896\n",
      "8      Consuela Arboleda    77     188  21.785876\n",
      "9      María José Franco    70     175  22.857143\n",
      "10        Emanuel Gálvez    73     181  22.282592\n",
      "11      Alberto Graciani    62     163  23.335466\n",
      "12  Patricio Encarnación    81     190  22.437673\n",
      "13    Cristóbal Miralles    72     174  23.781213\n",
      "14         Pablo Cotilla    75     178  23.671254\n",
      "15         Pablo Capmany    69     171  23.597004\n",
      "16      Nicolás Cambeiro    68     175  22.204082\n",
      "17        Daniel Sánchez    63     167  22.589551\n",
      "18         Samuel Gálvez    74     183  22.096808\n",
      "19            José París    68     163  25.593737\n",
      "20          Kevin Pareja    61     177  19.470778\n",
      "21  Estefania Manzanares    79     179  24.655910\n",
      "22        Óliver Fonseca    80     164  29.744200\n",
      "23  Christopher Berganza    70     173  23.388687\n",
      "24         Álvaro Espina    76     180  23.456790\n",
      "25      Leonardo Magrina    65     171  22.229062\n",
      "26       Fernando Gálvez    72     168  25.510204\n",
      "27       Sophie González    75     176  24.212293\n",
      "28           Alexia Gaos    69     169  24.158818\n",
      "29         Fátima Varela    73     182  22.038401\n",
      "30           Clara Arias    63     162  24.005487\n",
      "31       Paloma Berganza    62     174  20.478267\n"
     ]
    }
   ],
   "source": [
    "# Se aplica la fórmula y se agrega la columna\n",
    "df['IMC'] = df['peso']/((df['altura']/100)**2)\n",
    "# Se valida que exista la incorporación del campo calculado con un print del DataFrame\n",
    "print(df)\n",
    "# De manera más resumida se visualiza lo mismo pero acotando a 4 columnas: nombre, peso, altura e IMC\n",
    "print(df[['nombre', 'peso', 'altura', 'IMC']])"
   ]
  },
  {
   "cell_type": "markdown",
   "id": "f0272e02-8fc2-43d0-8f8c-8da90235bb17",
   "metadata": {},
   "source": [
    "<span style=\"color:#87CEEB; font-size:20px; font-weight:bold;\">3.</span>\n",
    "<span style=\"font-size:15px;\">Crea la columna \"promedio_evaluaciones\" con el promedio de las 4 columnas\n",
    "de evaluaciones. Si el IMC está entre 18.5 y 24.9, entonces el candidato tendrá un IMC adecuado para ser astronauta. Filtra el DataFrame para obtener solo aquellas filas donde el IMC esté dentro de los límites entregados</span>"
   ]
  },
  {
   "cell_type": "code",
   "execution_count": 44,
   "id": "e7cb56af-0264-461a-98bd-102f1bbc4971",
   "metadata": {},
   "outputs": [
    {
     "name": "stdout",
     "output_type": "stream",
     "text": [
      "                  nombre        IMC  promedio_evaluaciones\n",
      "0          Alana Morillo  23.148148                  87.00\n",
      "1         Fátima Tafalla  24.382373                  86.25\n",
      "2             Sofía Puig  23.374726                  86.50\n",
      "3        Valentina Tasis  21.224490                  89.50\n",
      "4         Regina Cicerón  22.694019                  87.25\n",
      "5       Amaya de la Cruz  22.145329                  84.75\n",
      "6         María Juderías  23.547881                  88.00\n",
      "8      Consuela Arboleda  21.785876                  89.75\n",
      "9      María José Franco  22.857143                  86.50\n",
      "10        Emanuel Gálvez  22.282592                  86.00\n",
      "11      Alberto Graciani  23.335466                  84.00\n",
      "12  Patricio Encarnación  22.437673                  89.50\n",
      "13    Cristóbal Miralles  23.781213                  89.25\n",
      "14         Pablo Cotilla  23.671254                  86.75\n",
      "15         Pablo Capmany  23.597004                  86.00\n",
      "16      Nicolás Cambeiro  22.204082                  87.25\n",
      "17        Daniel Sánchez  22.589551                  84.00\n",
      "18         Samuel Gálvez  22.096808                  89.75\n",
      "20          Kevin Pareja  19.470778                  85.25\n",
      "21  Estefania Manzanares  24.655910                  84.25\n",
      "23  Christopher Berganza  23.388687                  90.50\n",
      "24         Álvaro Espina  23.456790                  85.75\n",
      "25      Leonardo Magrina  22.229062                  86.50\n",
      "27       Sophie González  24.212293                  82.75\n",
      "28           Alexia Gaos  24.158818                  91.50\n",
      "29         Fátima Varela  22.038401                  90.00\n",
      "30           Clara Arias  24.005487                  84.00\n",
      "31       Paloma Berganza  20.478267                  84.25\n"
     ]
    }
   ],
   "source": [
    "# Se calcula  el promedio de las evaluaciones\n",
    "df['promedio_evaluaciones'] = df[['evaluacion_fisica','evaluacion_psicologica','evaluacion_adaptativa','evaluacion_medica']].mean(axis=1)\n",
    "# Se filtra el DataFrame para candidatos con IMC adecuado para ser astronautra\n",
    "astronauta_adecuado = df[(df['IMC']>=18.5) & (df['IMC']<=24.9)]\n",
    "#Se muestra el DataFrame filtrado con las columnas: nombre, IMC y promedio_evaluaciones\n",
    "print(astronauta_adecuado[['nombre','IMC','promedio_evaluaciones']])"
   ]
  },
  {
   "cell_type": "markdown",
   "id": "80ccbc0b-1c9d-48be-adf0-3b335c131bde",
   "metadata": {},
   "source": [
    "<span style=\"color:#87CEEB; font-size:20px; font-weight:bold;\">4.</span>\n",
    "<span style=\"font-size:15px;\">El promedio de las 4 evaluaciones debe ser mayor o igual a 87. Filtra el DataFrame resultante y agrega esta condición al filtro aplicado en el paso anterior</span>"
   ]
  },
  {
   "cell_type": "code",
   "execution_count": 45,
   "id": "c1d20ca0-ffc3-41b1-84ab-cf8427ab9222",
   "metadata": {},
   "outputs": [
    {
     "name": "stdout",
     "output_type": "stream",
     "text": [
      "                  nombre        IMC  promedio_evaluaciones\n",
      "0          Alana Morillo  23.148148                  87.00\n",
      "3        Valentina Tasis  21.224490                  89.50\n",
      "4         Regina Cicerón  22.694019                  87.25\n",
      "6         María Juderías  23.547881                  88.00\n",
      "8      Consuela Arboleda  21.785876                  89.75\n",
      "12  Patricio Encarnación  22.437673                  89.50\n",
      "13    Cristóbal Miralles  23.781213                  89.25\n",
      "16      Nicolás Cambeiro  22.204082                  87.25\n",
      "18         Samuel Gálvez  22.096808                  89.75\n",
      "23  Christopher Berganza  23.388687                  90.50\n",
      "28           Alexia Gaos  24.158818                  91.50\n",
      "29         Fátima Varela  22.038401                  90.00\n"
     ]
    }
   ],
   "source": [
    "# Se reutiliza el filtro anterior y se agrega que el promedioo de las 4 evaluaciones debe sser mayor o igual a 87\n",
    "astronauta_adecuado = df[(df['IMC']>=18.5) & (df['IMC']<=24.9) & (df['promedio_evaluaciones']>=87)]\n",
    "#Se muestra el DataFrame filtrado con las columnas: nombre, IMC y promedio_evaluaciones\n",
    "print(astronauta_adecuado[['nombre','IMC','promedio_evaluaciones']])"
   ]
  },
  {
   "cell_type": "raw",
   "id": "93d2763a-2370-4a3f-8f74-f263a88a2d45",
   "metadata": {},
   "source": [
    "<span style=\"color:#87CEEB; font-size:20px; font-weight:bold;\">5.</span>\n",
    "<span style=\"font-size:15px;\">Reinicia el índice del DataFrame resultante</span>"
   ]
  },
  {
   "cell_type": "code",
   "execution_count": 46,
   "id": "43c11de4-cc85-4664-8a08-279a2284ec7b",
   "metadata": {},
   "outputs": [
    {
     "name": "stdout",
     "output_type": "stream",
     "text": [
      "                  nombre        IMC  promedio_evaluaciones\n",
      "0          Alana Morillo  23.148148                  87.00\n",
      "1        Valentina Tasis  21.224490                  89.50\n",
      "2         Regina Cicerón  22.694019                  87.25\n",
      "3         María Juderías  23.547881                  88.00\n",
      "4      Consuela Arboleda  21.785876                  89.75\n",
      "5   Patricio Encarnación  22.437673                  89.50\n",
      "6     Cristóbal Miralles  23.781213                  89.25\n",
      "7       Nicolás Cambeiro  22.204082                  87.25\n",
      "8          Samuel Gálvez  22.096808                  89.75\n",
      "9   Christopher Berganza  23.388687                  90.50\n",
      "10           Alexia Gaos  24.158818                  91.50\n",
      "11         Fátima Varela  22.038401                  90.00\n"
     ]
    }
   ],
   "source": [
    "# Se reinicia el DataFrame filtrado\n",
    "astronauta_adecuado.reset_index(drop=True, inplace=True)\n",
    "# Se muestra el DataFrame filtrardo con el nuevo índice\n",
    "print(astronauta_adecuado[['nombre','IMC','promedio_evaluaciones']])"
   ]
  },
  {
   "cell_type": "markdown",
   "id": "2725aa47-bdf1-4134-8fd6-7138ea2b519a",
   "metadata": {},
   "source": [
    "<span style=\"color:#87CEEB; font-size:20px; font-weight:bold;\">6.</span>\n",
    "<span style=\"font-size:15px;\">Modifica el valor de la columna \"califica\", para que diga \"Si\" en todas las filas del\n",
    "DataFrame resultante</span>"
   ]
  },
  {
   "cell_type": "code",
   "execution_count": 48,
   "id": "62c31453-9b39-4382-a077-25f329d4ea48",
   "metadata": {},
   "outputs": [
    {
     "name": "stdout",
     "output_type": "stream",
     "text": [
      "                  nombre        IMC  promedio_evaluaciones califica\n",
      "0          Alana Morillo  23.148148                  87.00       Si\n",
      "1        Valentina Tasis  21.224490                  89.50       Si\n",
      "2         Regina Cicerón  22.694019                  87.25       Si\n",
      "3         María Juderías  23.547881                  88.00       Si\n",
      "4      Consuela Arboleda  21.785876                  89.75       Si\n",
      "5   Patricio Encarnación  22.437673                  89.50       Si\n",
      "6     Cristóbal Miralles  23.781213                  89.25       Si\n",
      "7       Nicolás Cambeiro  22.204082                  87.25       Si\n",
      "8          Samuel Gálvez  22.096808                  89.75       Si\n",
      "9   Christopher Berganza  23.388687                  90.50       Si\n",
      "10           Alexia Gaos  24.158818                  91.50       Si\n",
      "11         Fátima Varela  22.038401                  90.00       Si\n"
     ]
    }
   ],
   "source": [
    "# Se modifica el valor de la columna \"califica\" a \"Si\" en todas las filas\n",
    "astronauta_adecuado.loc[:,'califica'] = 'Si'\n",
    "# Se muestra el DataFrame resultante\n",
    "print(astronauta_adecuado[['nombre', 'IMC', 'promedio_evaluaciones', 'califica']])"
   ]
  },
  {
   "cell_type": "markdown",
   "id": "35201401-3638-4935-8ac7-d655299bf0e3",
   "metadata": {},
   "source": [
    "<span style=\"color:#87CEEB; font-size:20px; font-weight:bold;\">7.</span>\n",
    "<span style=\"font-size:15px;\">Exporta el DataFrame resultante a un archivo .csv separado por comas con el\n",
    "nombre \"astronautas_calificados.csv\"</span>"
   ]
  },
  {
   "cell_type": "code",
   "execution_count": 50,
   "id": "6b388627-caaa-4f6d-8b54-08fb994458b9",
   "metadata": {},
   "outputs": [],
   "source": [
    "# Se exporta DataFrame a un archivo CSV\n",
    "astronauta_adecuado.to_csv('astronautas_calificados.csv', index=False)"
   ]
  },
  {
   "cell_type": "code",
   "execution_count": null,
   "id": "d8b92dec-42bb-4c59-bd93-3adb1d8f2b5d",
   "metadata": {},
   "outputs": [],
   "source": []
  }
 ],
 "metadata": {
  "kernelspec": {
   "display_name": "Python 3 (ipykernel)",
   "language": "python",
   "name": "python3"
  },
  "language_info": {
   "codemirror_mode": {
    "name": "ipython",
    "version": 3
   },
   "file_extension": ".py",
   "mimetype": "text/x-python",
   "name": "python",
   "nbconvert_exporter": "python",
   "pygments_lexer": "ipython3",
   "version": "3.12.4"
  }
 },
 "nbformat": 4,
 "nbformat_minor": 5
}
